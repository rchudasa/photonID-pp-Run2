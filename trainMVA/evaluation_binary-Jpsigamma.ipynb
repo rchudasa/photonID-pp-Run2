{
 "cells": [
  {
   "cell_type": "markdown",
   "id": "49835db8",
   "metadata": {},
   "source": [
    "## import the libraries "
   ]
  },
  {
   "cell_type": "code",
   "execution_count": 1,
   "id": "61865d3f",
   "metadata": {},
   "outputs": [],
   "source": [
    "import warnings\n",
    "warnings.filterwarnings('ignore')"
   ]
  },
  {
   "cell_type": "code",
   "execution_count": 2,
   "id": "c178d002",
   "metadata": {},
   "outputs": [],
   "source": [
    "import uproot3\n",
    "import dask.dataframe as dd\n",
    "import time\n",
    "from dask import delayed\n",
    "import numpy as np\n",
    "import pandas as pd\n",
    "import matplotlib as mpl\n",
    "mpl.rcParams['figure.dpi'] = 200\n",
    "from matplotlib import rcParams\n",
    "rcParams.update({'figure.autolayout': True})\n",
    "import seaborn as sns\n",
    "import os\n",
    "\n",
    "pd.pandas.set_option('display.max_columns',None)"
   ]
  },
  {
   "cell_type": "markdown",
   "id": "fb431ddc",
   "metadata": {},
   "source": [
    "## Check if jupyter notebook or script"
   ]
  },
  {
   "cell_type": "code",
   "execution_count": 3,
   "id": "20bca186",
   "metadata": {},
   "outputs": [],
   "source": [
    "def in_ipynb():\n",
    "    try:\n",
    "        cfg = get_ipython().config\n",
    "        print(cfg)\n",
    "        if 'jupyter' in cfg['IPKernelApp']['connection_file']:\n",
    "            return True\n",
    "        else:\n",
    "            return False\n",
    "    except NameError:\n",
    "        return False"
   ]
  },
  {
   "cell_type": "code",
   "execution_count": 4,
   "id": "ff385e90",
   "metadata": {
    "scrolled": true
   },
   "outputs": [
    {
     "name": "stdout",
     "output_type": "stream",
     "text": [
      "{'IPKernelApp': {'connection_file': '/scratch/rchudasa/.local/share/jupyter/runtime/kernel-3f88ddc3-6172-49c3-960d-72a123e8ac31.json'}, 'InteractiveShellApp': {'extensions': <LazyConfigValue value=['sparkmonitor.kernelextension', 'swankernelenv']>}}\n",
      "In IPython\n"
     ]
    },
    {
     "name": "stderr",
     "output_type": "stream",
     "text": [
      "2022-11-11 13:24:51.433881: W tensorflow/stream_executor/platform/default/dso_loader.cc:64] Could not load dynamic library 'libcudart.so.11.0'; dlerror: libcudart.so.11.0: cannot open shared object file: No such file or directory; LD_LIBRARY_PATH: /cvmfs/sft.cern.ch/lcg/releases/MCGenerators/thepeg/2.2.3-88592/x86_64-centos7-gcc11-opt/lib/ThePEG:/cvmfs/sft.cern.ch/lcg/releases/MCGenerators/herwig++/7.2.3-35f7a/x86_64-centos7-gcc11-opt/lib/Herwig:/cvmfs/sft.cern.ch/lcg/views/LCG_102swan/x86_64-centos7-gcc11-opt/lib/python3.9/site-packages/jaxlib/mlir/_mlir_libs:/cvmfs/sft.cern.ch/lcg/views/LCG_102swan/x86_64-centos7-gcc11-opt/lib/python3.9/site-packages/torch/lib:/cvmfs/sft.cern.ch/lcg/views/LCG_102swan/x86_64-centos7-gcc11-opt/lib/python3.9/site-packages/onnxruntime/capi/:/cvmfs/sft.cern.ch/lcg/views/LCG_102swan/x86_64-centos7-gcc11-opt/lib/python3.9/site-packages/tensorflow:/cvmfs/sft.cern.ch/lcg/views/LCG_102swan/x86_64-centos7-gcc11-opt/lib/python3.9/site-packages/tensorflow/contrib/tensor_forest:/cvmfs/sft.cern.ch/lcg/views/LCG_102swan/x86_64-centos7-gcc11-opt/lib/python3.9/site-packages/tensorflow/python/framework:/cvmfs/sft.cern.ch/lcg/releases/java/11.0.14p1-8284a/x86_64-centos7-gcc11-opt/jre/lib/amd64:/cvmfs/sft.cern.ch/lcg/views/LCG_102swan/x86_64-centos7-gcc11-opt/lib64:/cvmfs/sft.cern.ch/lcg/views/LCG_102swan/x86_64-centos7-gcc11-opt/lib:/cvmfs/sft.cern.ch/lcg/releases/gcc/11.2.0-8a51a/x86_64-centos7/lib:/cvmfs/sft.cern.ch/lcg/releases/gcc/11.2.0-8a51a/x86_64-centos7/lib64:/cvmfs/sft.cern.ch/lcg/releases/binutils/2.37-355ed/x86_64-centos7/lib:/usr/local/lib/:/cvmfs/sft.cern.ch/lcg/releases/R/4.1.2-f9ee4/x86_64-centos7-gcc11-opt/lib64/R/library/readr/rcon\n",
      "2022-11-11 13:24:51.433923: I tensorflow/stream_executor/cuda/cudart_stub.cc:29] Ignore above cudart dlerror if you do not have a GPU set up on your machine.\n"
     ]
    }
   ],
   "source": [
    "if in_ipynb():\n",
    "    print(\"In IPython\")\n",
    "    TrainConfig=\"Configs/BinaryClassification_XGBoost_balancedDataset.py\"\n",
    "    exec(\"import \"+TrainConfig.replace(\"/\", \".\")+\" as Conf\")\n",
    "else:\n",
    "    TrainConfig=sys.argv[1]\n",
    "    print(\"Importing settings from \"+ TrainConfig.replace(\"/\", \".\"))\n",
    "    #exec(\"from \"+TrainConfig+\" import *\")\n",
    "    importConfig=TrainConfig.replace(\"/\", \".\")\n",
    "    exec(\"import \"+importConfig+\" as Conf\")"
   ]
  },
  {
   "cell_type": "markdown",
   "id": "187388a9",
   "metadata": {},
   "source": [
    "### Function to return pandas dataframe from root file "
   ]
  },
  {
   "cell_type": "code",
   "execution_count": 5,
   "id": "8ed47f42",
   "metadata": {},
   "outputs": [],
   "source": [
    "def get_pandasDataFrame(process,cat,path,fileName,treeName,branches,selection,fraction):\n",
    "    print(selection)\n",
    "    eventsPhoton  = uproot3.open(path+fileName)[treeName]\n",
    "    #pd_dataframe  = eventsPhoton.pandas.df(branches=branches)\n",
    "    pd_dataframe  = eventsPhoton.pandas.df(branches=branches).query(selection)\n",
    "    pd_dataframe['Class'] = process\n",
    "    pd_dataframe['Category'] = cat\n",
    "    pd_dataframe = pd_dataframe.sample(frac=fraction)\n",
    "    \n",
    "    print(pd_dataframe.shape)\n",
    "    return pd_dataframe\n",
    "\n",
    " \n",
    "def MyBins(lower,upper,step): return np.arange(lower,upper,step).tolist() \n",
    "\n",
    "def PrepDataset(df_final,TrainIndices,TestIndices,features,cat,weight):\n",
    "    X_train = df_final.loc[TrainIndices,features]\n",
    "    Y_train = df_final.loc[TrainIndices,cat]\n",
    "    Wt_train = df_final.loc[TrainIndices,weight]\n",
    "\n",
    "    X_test = df_final.loc[TestIndices,features]\n",
    "    Y_test = df_final.loc[TestIndices,cat]\n",
    "    Wt_test = df_final.loc[TestIndices,weight]\n",
    "    return np.asarray(X_train), np.asarray(Y_train), np.asarray(Wt_train), np.asarray(X_test), np.asarray(Y_test), np.asarray(Wt_test)\n"
   ]
  },
  {
   "cell_type": "markdown",
   "id": "cc4f6c44",
   "metadata": {},
   "source": [
    "## Define MVA parameters as a dictionary "
   ]
  },
  {
   "cell_type": "code",
   "execution_count": 6,
   "id": "e3561335",
   "metadata": {},
   "outputs": [],
   "source": [
    "import pickle\n",
    "import matplotlib.pyplot as plt\n",
    "import multiprocessing\n",
    "import seaborn as sns"
   ]
  },
  {
   "cell_type": "code",
   "execution_count": 7,
   "id": "b22f0c94",
   "metadata": {},
   "outputs": [],
   "source": [
    "MVA = {\"MVAtype\":\"XGB_1\", #Keyword to identify MVA method.\n",
    "     \"Color\":\"green\", #Plot color for MVA\n",
    "     \"Label\":\"XGB small list\", # label can be anything (this is how you will identify them on plot legends)\n",
    "     \"features\":['scEtaWidth','scR9','scSigmaIetaIeta','scSigmaIetaIphi','scEMaxRatio','scSwissCross','scE2x5_MaxRatio','scE2ndRatio','scPFChIso1','scPFChIso3','scPFChIso5'],\n",
    "     \"feature_bins\":[MyBins(0,0.1,0.001), MyBins(0,1,0.01), MyBins(0,0.1,0.001),MyBins(0,0.002,0.00001),MyBins(0,1,0.01),MyBins(0,1,0.01),MyBins(0,1,0.01),MyBins(0,1,0.01), \n",
    "                    MyBins(0,100,1),MyBins(0,100,1),MyBins(0,100,1)], #same length as features #Binning used only for plotting features (should be in the same order as features), \n",
    "     'Scaler':\"StandardScaler\", #Scaling for features before passing to the model training\n",
    "     'UseGPU':False, #If you have a GPU card, you can turn on this option (CUDA 10.0, Compute Capability 3.5 required)\n",
    "     \"XGBGridSearch\":{'colsample_bytree': [0.5,1.0], 'gamma': [0.5], 'max_depth': [5,3], 'min_child_weight': [5], 'subsample': [0.8]}\n",
    "      }\n",
    "\n",
    "#os.system(\"mkdir -p \" + Conf.OutputDirName+\"/\"+MVA[\"MVAtype\"])"
   ]
  },
  {
   "cell_type": "markdown",
   "id": "9c14b369",
   "metadata": {},
   "source": [
    "## Loading the test/train dataset :  CHECK IF THIS PROVIDES A DETERMINSTIC SET OF TEST/TRAIN"
   ]
  },
  {
   "cell_type": "code",
   "execution_count": 8,
   "id": "69521449",
   "metadata": {},
   "outputs": [
    {
     "name": "stdout",
     "output_type": "stream",
     "text": [
      "/eos/user/r/rchudasa/SWAN_projects/photonID-pp-Run2/makeInputTrees/workarea/ mc_signal_bsMMG_barrel.root genMatchedBMMGSCTree\n",
      "(scEt>4) & (scEt<15) & abs(scEta)<1.4442 & (scFoundGsfMatch_ < 1)\n",
      "(180134, 26)\n",
      "/eos/user/r/rchudasa/SWAN_projects/photonID-pp-Run2/makeInputTrees/workarea/ mc_qcd20To30EmEnriched_barrel.root mergedPi0_SCTree\n",
      "(scEt>4) & (scEt<15) & abs(scEta)<1.4442 & (scFoundGsfMatch_ < 1)\n",
      "(64661, 26)\n",
      "/eos/user/r/rchudasa/SWAN_projects/photonID-pp-Run2/makeInputTrees/workarea/ mc_bkg_flat_pi0_barrel.root mergedPi0_SCTree\n",
      "(scEt>4) & (scEt<15) & abs(scEta)<1.4442 & (scFoundGsfMatch_ < 1)\n",
      "(49507, 26)\n",
      "/eos/user/r/rchudasa/SWAN_projects/photonID-pp-Run2/makeInputTrees/workarea/ data_2018D_barrel.root dataAllSCTree\n",
      "(scEt>4) & (scEt<15) & abs(scEta)<1.4442 & (scFoundGsfMatch_ < 1)\n",
      "(54344, 26)\n",
      "Execution time is 3.0631468296051025\n"
     ]
    }
   ],
   "source": [
    "dfs= []\n",
    "start = time.time()\n",
    "for process in Conf.processes:\n",
    "    path = Conf.baseInputPath\n",
    "    pr = process['Class']\n",
    "    cat = process['category']\n",
    "    fileName  = process['fileName']\n",
    "    treeName  = process['treeName']\n",
    "    selection = process['selection']\n",
    "    fraction  = process['fraction']\n",
    "    print(path,fileName,treeName)\n",
    "    dfs.append(delayed(get_pandasDataFrame(pr,cat,path,fileName,treeName,branches=Conf.branches,selection=selection,fraction=fraction)))\n",
    "end  = time.time()\n",
    "print(\"Execution time is\", end-start)"
   ]
  },
  {
   "cell_type": "code",
   "execution_count": 9,
   "id": "fe9b4419",
   "metadata": {},
   "outputs": [],
   "source": [
    "daskframe = dd.from_delayed(dfs)\n",
    "final_df = daskframe.compute()\n",
    "final_df.reset_index(inplace=True, drop=True)\n",
    "\n",
    "\n",
    "final_df[\"NewWt\"]=1\n",
    "final_df[\"xsecwt\"]=1\n",
    "\n",
    "Classes = ['Signal','Backg']\n",
    "index = final_df.index\n",
    "from sklearn.model_selection import train_test_split\n",
    "TrainIndices=[]\n",
    "TestIndices=[]\n",
    "for myclass in Classes:\n",
    "    condition = final_df[\"Class\"] == myclass\n",
    "    Indices = index[condition].values.tolist()\n",
    "    myclassTrainIndices, myclassTestIndices = train_test_split(Indices, test_size=0.25, random_state=42, shuffle=True)\n",
    "    TrainIndices=TrainIndices + myclassTrainIndices\n",
    "    TestIndices=TestIndices + myclassTestIndices\n",
    "\n",
    "final_df.loc[TrainIndices,'Dataset'] = \"Train\"\n",
    "final_df.loc[TestIndices,'Dataset'] = \"Test\"\n",
    "\n",
    "final_df.loc[TrainIndices,'TrainDataset'] = 1\n",
    "final_df.loc[TestIndices,'TrainDataset'] = 0"
   ]
  },
  {
   "cell_type": "code",
   "execution_count": 10,
   "id": "89216b5c",
   "metadata": {},
   "outputs": [],
   "source": [
    "X_train, Y_train, Wt_train, X_test, Y_test, Wt_test = PrepDataset(final_df,TrainIndices,TestIndices,MVA[\"features\"],cat='Category',weight=\"NewWt\")\n",
    "#exec(\"from sklearn.preprocessing import \"+MVA[\"Scaler\"])\n",
    "#exec(\"sc = \"+MVA[\"Scaler\"]+\"()\")\n",
    "#scale the training data input features so that it is between 0 and 1\n",
    "#X_train = sc.fit_transform(X_train) \n",
    "#X_test = sc.transform(X_test)\n",
    "# pickle.dump(sc, open(Conf.OutputDirName+\"/\"+MVA[\"MVAtype\"]+\"/\"+MVA[\"MVAtype\"]+\"_\"+\"_scaler.pkl\",'wb'))"
   ]
  },
  {
   "cell_type": "markdown",
   "id": "85415af3",
   "metadata": {},
   "source": [
    "## Load the trained Model"
   ]
  },
  {
   "cell_type": "code",
   "execution_count": 11,
   "id": "1b6ee88a",
   "metadata": {},
   "outputs": [],
   "source": [
    "import xgboost as xgb\n",
    "import pickle\n",
    "from sklearn.model_selection import cross_val_score, GridSearchCV"
   ]
  },
  {
   "cell_type": "code",
   "execution_count": 12,
   "id": "3c4ce6a1",
   "metadata": {},
   "outputs": [],
   "source": [
    "modelPath=Conf.OutputDirName+\"/\"+MVA[\"MVAtype\"]+\"/\"+MVA[\"MVAtype\"]+\"_\"+\"modelXGB.pkl\"\n",
    "scalerPath=Conf.OutputDirName+\"/\"+MVA[\"MVAtype\"]+\"/\"+MVA[\"MVAtype\"]+\"_\"+\"_scaler.pkl\"\n",
    "rslt=None\n",
    "scaler=None\n",
    "with open(modelPath, 'rb') as f:\n",
    "    rslt = pickle.load(f)\n",
    "with open(scalerPath, 'rb') as f:\n",
    "    scaler = pickle.load(f)\n",
    "    \n",
    "cv=rslt\n",
    "\n",
    "start = time.time()\n",
    "xgb_model = cv.best_estimator_\n"
   ]
  },
  {
   "cell_type": "code",
   "execution_count": 13,
   "id": "bbee284e",
   "metadata": {},
   "outputs": [],
   "source": [
    "X_train = scaler.transform(X_train) \n",
    "X_test = scaler.transform(X_test)"
   ]
  },
  {
   "cell_type": "code",
   "execution_count": 14,
   "id": "c53b55cc",
   "metadata": {},
   "outputs": [
    {
     "data": {
      "text/plain": [
       "Text(0.5, 1.0, 'XGB small list XGBoost Error')"
      ]
     },
     "execution_count": 14,
     "metadata": {},
     "output_type": "execute_result"
    },
    {
     "data": {
      "image/png": "[encoded data removed]",
      "text/plain": [
       "<Figure size 360x360 with 1 Axes>"
      ]
     },
     "metadata": {
      "needs_background": "light"
     },
     "output_type": "display_data"
    }
   ],
   "source": [
    "results = cv.best_estimator_.evals_result()\n",
    "epochs = len(results['validation_0']['error'])\n",
    "x_axis = range(0, epochs)\n",
    "fig, ax = plt.subplots(figsize=(5,5))\n",
    "        \n",
    "ax.plot(x_axis, results['validation_0']['error'], label='Train')\n",
    "ax.plot(x_axis, results['validation_1']['error'], label='Test')\n",
    "ax.legend()\n",
    "ax.set_ylabel('error')\n",
    "ax.set_xlabel('epochs')\n",
    "ax.set_title(MVA[\"Label\"]+' XGBoost Error')"
   ]
  },
  {
   "cell_type": "code",
   "execution_count": 15,
   "id": "0b480499",
   "metadata": {},
   "outputs": [],
   "source": [
    "from tensorflow.keras.utils import to_categorical\n",
    "y_test_pred=cv.predict_proba(X_test)\n",
    "y_train_pred=cv.predict_proba(X_train)\n",
    "\n",
    "Y_train_cat = to_categorical(Y_train, num_classes=2)\n",
    "Y_test_cat = to_categorical(Y_test, num_classes=2)\n",
    "\n",
    "final_df.loc[TrainIndices,MVA[\"MVAtype\"]+\"_pred\"]=cv.predict_proba(X_train)[:,0]\n",
    "final_df.loc[TestIndices,MVA[\"MVAtype\"]+\"_pred\"]=cv.predict_proba(X_test)[:,0]\n",
    "\n",
    "plotwt_train=np.asarray(final_df.loc[TrainIndices,'xsecwt'])\n",
    "plotwt_test=np.asarray(final_df.loc[TestIndices,'xsecwt'])"
   ]
  },
  {
   "cell_type": "code",
   "execution_count": 16,
   "id": "2afd62b9",
   "metadata": {},
   "outputs": [
    {
     "data": {
      "image/png": "[encoded data removed]",
      "text/plain": [
       "<Figure size 288x288 with 2 Axes>"
      ]
     },
     "metadata": {
      "needs_background": "light"
     },
     "output_type": "display_data"
    },
    {
     "data": {
      "image/png": "[encoded data removed]",
      "text/plain": [
       "<Figure size 288x288 with 2 Axes>"
      ]
     },
     "metadata": {
      "needs_background": "light"
     },
     "output_type": "display_data"
    }
   ],
   "source": [
    "import pandas as pd\n",
    "\n",
    "from sklearn.metrics import confusion_matrix\n",
    "fig, axes = plt.subplots(1, 1, figsize=(len(Classes)*2, len(Classes)*2))\n",
    "cm = confusion_matrix(Y_test_cat.argmax(axis=1), y_test_pred.argmax(axis=1))\n",
    "cm_df = pd.DataFrame(cm,index = Classes, columns = Classes)\n",
    "sns.heatmap(cm_df, annot=True,ax=axes)\n",
    "axes.set_yticklabels(axes.get_yticklabels(), va='center')\n",
    "axes.set_xticklabels(axes.get_yticklabels(), ha='center')\n",
    "axes.set_ylabel(\"True class\")\n",
    "axes.set_xlabel(\"Predicted class\")\n",
    "\n",
    "fig, axes = plt.subplots(1, 1, figsize=(len(Classes)*2, len(Classes)*2))\n",
    "cm = confusion_matrix(Y_train_cat.argmax(axis=1), y_train_pred.argmax(axis=1))\n",
    "cm_df = pd.DataFrame(cm,index = Classes,columns = Classes)\n",
    "sns.heatmap(cm_df, annot=True,ax=axes)\n",
    "axes.set_yticklabels(axes.get_yticklabels(), va='center')\n",
    "axes.set_xticklabels(axes.get_yticklabels(), ha='center')\n",
    "axes.set_ylabel(\"True class\")\n",
    "axes.set_xlabel(\"Predicted class\")\n",
    "fig.savefig(Conf.OutputDirName+\"/\"+MVA[\"MVAtype\"]+\"/\"+MVA[\"MVAtype\"]+\"_\"+\"CM_Training.png\") "
   ]
  },
  {
   "cell_type": "code",
   "execution_count": 17,
   "id": "5dfe8695",
   "metadata": {},
   "outputs": [],
   "source": [
    "ClassColors =['#377eb8', '#ff7f00']"
   ]
  },
  {
   "cell_type": "code",
   "execution_count": 18,
   "id": "5514d0ce",
   "metadata": {},
   "outputs": [
    {
     "data": {
      "image/png": "[encoded data removed]",
      "text/plain": [
       "<Figure size 720x360 with 2 Axes>"
      ]
     },
     "metadata": {
      "needs_background": "light"
     },
     "output_type": "display_data"
    },
    {
     "data": {
      "image/png": "[encoded data removed]",
      "text/plain": [
       "<Figure size 720x360 with 2 Axes>"
      ]
     },
     "metadata": {
      "needs_background": "light"
     },
     "output_type": "display_data"
    }
   ],
   "source": [
    "from sklearn.metrics import roc_curve, auc\n",
    "\n",
    "n_classes=len(Classes)\n",
    "fig, axes = plt.subplots(1, n_classes, figsize=(n_classes*5, 5))\n",
    "figMVA, axesMVA = plt.subplots(1, n_classes, figsize=(n_classes*5, 5))    \n",
    "for i in range(n_classes):\n",
    "    axMVA=axesMVA[i]\n",
    "    ax=axes[i]\n",
    "    for k in range(n_classes):\n",
    "        axMVA.hist(y_test_pred[:, i][Y_test_cat[:, k]==1],bins=np.linspace(0, 1, 21),label=Classes[k]+'_test',\n",
    "                   weights=plotwt_test[Y_test_cat[:, k]==1]/np.sum(plotwt_test[Y_test_cat[:, k]==1]),\n",
    "                   histtype='step',linewidth=2,color=ClassColors[k])\n",
    "        axMVA.hist(y_train_pred[:, i][Y_train_cat[:, k]==1],bins=np.linspace(0, 1, 21),label=Classes[k]+'_train',\n",
    "                   weights=plotwt_train[Y_train_cat[:, k]==1]/np.sum(plotwt_train[Y_train_cat[:, k]==1]),\n",
    "                   histtype='stepfilled',alpha=0.3,linewidth=2,color=ClassColors[k])\n",
    "        \n",
    "    axMVA.set_xlabel('Score',fontsize=10)\n",
    "        \n",
    "    axMVA.set_ylabel('Fraction of events',fontsize=10)\n",
    "    axMVA.legend(title=MVA[\"Label\"]+' Score ', loc=\"best\",fontsize=10)\n",
    "    axMVA.text(0, 1, \"CMS Preliminary\", horizontalalignment = 'left', verticalalignment = 'bottom', transform=axMVA.transAxes, fontsize = 12)#, fontweight = 'bold')\n",
    "        \n",
    "    axMVA.text(1, 1, \"13 TeV\", horizontalalignment = 'right', verticalalignment = 'bottom', transform = axMVA.transAxes, fontsize = 12)\n",
    "    #axMVA.set_yscale('log')\n",
    "            \n",
    "    fpr, tpr, th = roc_curve(Y_test_cat[:, i], y_test_pred[:, i],sample_weight=plotwt_test)\n",
    "    fpr_tr, tpr_tr, th_tr = roc_curve(Y_train_cat[:, i], y_train_pred[:, i],sample_weight=plotwt_train)\n",
    "    mask = tpr > 0.0\n",
    "    fpr, tpr = fpr[mask], tpr[mask]\n",
    "\n",
    "    mask = tpr_tr > 0.0\n",
    "    fpr_tr, tpr_tr = fpr_tr[mask], tpr_tr[mask]\n",
    "\n",
    "    roc_auc = auc(fpr, tpr)\n",
    "    roc_auc_tr = auc(fpr_tr, tpr_tr)\n",
    "            \n",
    "    ax.plot(tpr*100, fpr*100, label='ROC curve test (area = %0.2f)' % roc_auc,linewidth=1)\n",
    "    ax.plot(tpr_tr*100, fpr_tr*100, label='ROC curve train (area = %0.2f)' % roc_auc_tr,linewidth=1)\n",
    "    ax.text(0, 1, \"CMS Preliminary\", horizontalalignment = 'left', verticalalignment = 'bottom', transform=ax.transAxes, fontsize = 12)#, fontweight = 'bold')\n",
    "    ax.text(1, 1, \"13 TeV\", horizontalalignment = 'right', verticalalignment = 'bottom', transform = ax.transAxes, fontsize = 12)\n",
    "    ax.set_yscale(\"log\")\n",
    "    ax.set_xlabel(Classes[i]+' efficiency (%)',fontsize=10)\n",
    "    ax.set_ylabel('Efficiency for other classes (%)',fontsize=10)\n",
    "    ax.legend(loc=\"best\",fontsize=10)\n",
    "\n",
    "fig.savefig(Conf.OutputDirName+\"/\"+\"ROC_curve.pdf\")\n",
    "fig.savefig(Conf.OutputDirName+\"/\"+\"ROC_curve.png\")\n",
    "figMVA.savefig(Conf.OutputDirName+\"/\"+\"MVA_score.pdf\")\n",
    "figMVA.savefig(Conf.OutputDirName+\"/\"+\"MVA_score.png\")"
   ]
  },
  {
   "cell_type": "markdown",
   "id": "40405e86",
   "metadata": {},
   "source": [
    "## Load the Datsets separtely"
   ]
  },
  {
   "cell_type": "code",
   "execution_count": 19,
   "id": "a5c912f9",
   "metadata": {},
   "outputs": [],
   "source": [
    "baseBath='/eos/user/r/rchudasa/SWAN_projects/photonID-pp-Run2/makeInputTrees/workarea/'\n",
    "processesToLoad = [\n",
    "    {'Class':'Evaluation','fileName':'mc_signal_bsJpsiGamma_barrel.root', \n",
    "    'treeName':'genMatchedBMMGSCTree', 'selection':'(scEt>4) & (scEt<15) & abs(scEta)<1.4442 & (scFoundGsfMatch_ < 1)', 'process':'bsMMG', 'category':0},\n",
    "    #{'Class':'Pi0','fileName':'mc_bkg_flat_pi0_barrel.root',\n",
    "    #'treeName':'mergedPi0_SCTree', 'selection':'(scEt>4) & (scEt<15) & abs(scEta)<1.4442', 'process':'Flat_pi0','category':1}, \n",
    "    {'Class':'QCD','fileName':'mc_qcd20To30EmEnriched_barrel.root',\n",
    "    'treeName':'mergedPi0_SCTree', 'selection':'(scEt>4) & (scEt<15) & abs(scEta)<1.4442 & (scFoundGsfMatch_ < 1)', 'process':'QCD','category':1} \n",
    "]"
   ]
  },
  {
   "cell_type": "code",
   "execution_count": 20,
   "id": "dd1b15fd",
   "metadata": {},
   "outputs": [
    {
     "name": "stdout",
     "output_type": "stream",
     "text": [
      "/eos/user/r/rchudasa/SWAN_projects/photonID-pp-Run2/makeInputTrees/workarea/ mc_signal_bsJpsiGamma_barrel.root genMatchedBMMGSCTree\n",
      "(scEt>4) & (scEt<15) & abs(scEta)<1.4442 & (scFoundGsfMatch_ < 1)\n",
      "(115289, 26)\n",
      "(115289, 26)\n",
      "/eos/user/r/rchudasa/SWAN_projects/photonID-pp-Run2/makeInputTrees/workarea/ mc_qcd20To30EmEnriched_barrel.root mergedPi0_SCTree\n",
      "(scEt>4) & (scEt<15) & abs(scEta)<1.4442 & (scFoundGsfMatch_ < 1)\n",
      "(64661, 26)\n",
      "(64661, 26)\n",
      "Execution time is 0.9607234001159668\n"
     ]
    }
   ],
   "source": [
    "dfs_p2= {}\n",
    "start = time.time()\n",
    "for process in processesToLoad:\n",
    "    path = baseBath\n",
    "    pr = process['Class']\n",
    "    cat = process['category']\n",
    "    fileName  = process['fileName']\n",
    "    treeName  = process['treeName']\n",
    "    selection = process['selection']\n",
    "    print(path,fileName,treeName)\n",
    "    dfs_p2[process['Class']]=delayed(get_pandasDataFrame(pr,cat,path,fileName,treeName,branches=Conf.branches,selection=selection,fraction=1)).compute()\n",
    "#     dfs_p2[process['Class']].reset_index(inplace=True, drop=True)\n",
    "    print(dfs_p2[process['Class']].shape)\n",
    "\n",
    "end  = time.time()\n",
    "print(\"Execution time is\", end-start)"
   ]
  },
  {
   "cell_type": "markdown",
   "id": "d8dc0efb",
   "metadata": {},
   "source": [
    "### Make the Tranformed datset ready to be fed to the model"
   ]
  },
  {
   "cell_type": "code",
   "execution_count": 21,
   "id": "b164e5ff",
   "metadata": {},
   "outputs": [],
   "source": [
    "dataset={}\n",
    "for process in dfs_p2:\n",
    "    _x=np.asarray(dfs_p2[process][MVA['features']])\n",
    "    dataset[process]={}\n",
    "    dataset[process]['X']=scaler.transform(_x)\n",
    "    "
   ]
  },
  {
   "cell_type": "code",
   "execution_count": 22,
   "id": "377139d9",
   "metadata": {},
   "outputs": [],
   "source": [
    "y_bs2JPsi_proba=xgb_model.predict_proba(dataset['Evaluation']['X'])"
   ]
  },
  {
   "cell_type": "markdown",
   "id": "ed2ae89c",
   "metadata": {},
   "source": [
    "#### Ploting the score for the Signal"
   ]
  },
  {
   "cell_type": "code",
   "execution_count": 23,
   "id": "21d08d85",
   "metadata": {},
   "outputs": [
    {
     "data": {
      "image/png": "[encoded data removed]",
      "text/plain": [
       "<Figure size 432x288 with 1 Axes>"
      ]
     },
     "metadata": {
      "needs_background": "light"
     },
     "output_type": "display_data"
    }
   ],
   "source": [
    "# 0 is for the signal class\n",
    "_=plt.hist(y_bs2JPsi_proba[:,0],bins=50)"
   ]
  },
  {
   "cell_type": "markdown",
   "id": "b4d6cca9",
   "metadata": {},
   "source": [
    "### Measuring the Accuracy"
   ]
  },
  {
   "cell_type": "code",
   "execution_count": 24,
   "id": "830ccd33",
   "metadata": {},
   "outputs": [
    {
     "name": "stdout",
     "output_type": "stream",
     "text": [
      "Accuracy :  0.8892522270121174\n"
     ]
    }
   ],
   "source": [
    "yPred=np.argmax(y_bs2JPsi_proba,axis=1)\n",
    "accuracy=sum(yPred==0)/len(yPred)\n",
    "print(\"Accuracy : \",accuracy)"
   ]
  },
  {
   "cell_type": "markdown",
   "id": "1d2c74f4",
   "metadata": {},
   "source": [
    "### Overtraining check"
   ]
  },
  {
   "cell_type": "markdown",
   "id": "239ab578",
   "metadata": {},
   "source": [
    "    To be done wrt.e train samples used for the Model derivation"
   ]
  },
  {
   "cell_type": "code",
   "execution_count": 25,
   "id": "1632130e",
   "metadata": {},
   "outputs": [],
   "source": [
    "# Getting the predictions for test/train sets | note this has to be done in the exact training set # to loaded exactly as in the training step"
   ]
  },
  {
   "cell_type": "code",
   "execution_count": 26,
   "id": "a75c4235",
   "metadata": {},
   "outputs": [],
   "source": [
    "yPredProba_test=xgb_model.predict_proba(X_test)\n",
    "yPredProba_train=xgb_model.predict_proba(X_train)"
   ]
  },
  {
   "cell_type": "code",
   "execution_count": 27,
   "id": "202681ed",
   "metadata": {},
   "outputs": [
    {
     "data": {
      "text/plain": [
       "array([[0.96601284, 0.03398714],\n",
       "       [0.76885796, 0.23114201],\n",
       "       [0.70483315, 0.29516685],\n",
       "       ...,\n",
       "       [0.69012016, 0.30987984],\n",
       "       [0.4456653 , 0.5543347 ],\n",
       "       [0.618119  , 0.38188103]], dtype=float32)"
      ]
     },
     "execution_count": 27,
     "metadata": {},
     "output_type": "execute_result"
    }
   ],
   "source": [
    "yPredProba_train"
   ]
  },
  {
   "cell_type": "code",
   "execution_count": 28,
   "id": "d522ad74",
   "metadata": {},
   "outputs": [
    {
     "data": {
      "text/plain": [
       "array([0, 0, 0, ..., 1, 1, 1])"
      ]
     },
     "execution_count": 28,
     "metadata": {},
     "output_type": "execute_result"
    }
   ],
   "source": [
    "Y_test"
   ]
  },
  {
   "cell_type": "code",
   "execution_count": 29,
   "id": "474e8869",
   "metadata": {},
   "outputs": [
    {
     "data": {
      "text/plain": [
       "<matplotlib.legend.Legend at 0x7fe28cd41940>"
      ]
     },
     "execution_count": 29,
     "metadata": {},
     "output_type": "execute_result"
    },
    {
     "data": {
      "image/png": "[encoded data removed]",
      "text/plain": [
       "<Figure size 432x288 with 1 Axes>"
      ]
     },
     "metadata": {
      "needs_background": "light"
     },
     "output_type": "display_data"
    }
   ],
   "source": [
    "cId=0\n",
    "classMask_test= Y_test==cId\n",
    "classMask_train= Y_train==cId\n",
    "\n",
    "_=plt.hist(yPredProba_test[classMask_test][:,cId]  ,label='test' ,histtype='step',density=True)\n",
    "_=plt.hist(yPredProba_train[classMask_train][:,cId],label='train',histtype='step',density=True)\n",
    "\n",
    "#_=plt.hist(yPredProba_test[:,cId]  ,label='test' ,histtype='step',density=True)\n",
    "#_=plt.hist(yPredProba_train[:,cId],label='train',histtype='step',density=True)\n",
    "plt.legend()"
   ]
  },
  {
   "cell_type": "code",
   "execution_count": 30,
   "id": "c138f909",
   "metadata": {},
   "outputs": [
    {
     "data": {
      "text/plain": [
       "<matplotlib.legend.Legend at 0x7fe28cd2b940>"
      ]
     },
     "execution_count": 30,
     "metadata": {},
     "output_type": "execute_result"
    },
    {
     "data": {
      "image/png": "[encoded data removed]",
      "text/plain": [
       "<Figure size 432x288 with 1 Axes>"
      ]
     },
     "metadata": {
      "needs_background": "light"
     },
     "output_type": "display_data"
    }
   ],
   "source": [
    "cId=1\n",
    "classMask_test= Y_test==cId\n",
    "classMask_train= Y_train==cId\n",
    "\n",
    "_=plt.hist(yPredProba_test[classMask_test][:,cId]  ,label='test' ,histtype='step',density=True)\n",
    "_=plt.hist(yPredProba_train[classMask_train][:,cId],label='train',histtype='step',density=True)\n",
    "\n",
    "#_=plt.hist(yPredProba_test[:,cId]  ,label='test' ,histtype='step',density=True)\n",
    "#_=plt.hist(yPredProba_train[:,cId],label='train',histtype='step',density=True)\n",
    "plt.legend()"
   ]
  },
  {
   "cell_type": "markdown",
   "id": "6c148aea",
   "metadata": {},
   "source": [
    "## Advanced exercise "
   ]
  },
  {
   "cell_type": "code",
   "execution_count": 31,
   "id": "6a3c661f",
   "metadata": {},
   "outputs": [],
   "source": [
    "import math\n",
    "from uncertainties import ufloat\n",
    "from uncertainties.umath import *"
   ]
  },
  {
   "cell_type": "code",
   "execution_count": 32,
   "id": "70ab5358",
   "metadata": {},
   "outputs": [],
   "source": [
    "def eff(group_df,var,cat,catvalue):\n",
    "    signalpass=len(group_df.query('('+var+' == 1) & ('+cat+' == '+str(catvalue)+')'))\n",
    "    signalpass=ufloat(signalpass,math.sqrt(signalpass))\n",
    "    signaltotal=len(group_df.query('('+cat+' == '+str(catvalue)+')'))\n",
    "    signaltoal=ufloat(signaltotal,math.sqrt(signaltotal))\n",
    "    if signaltotal>0:\n",
    "        signaleff=(100*signalpass)/(signaltotal)\n",
    "        return [signaleff.n, signaleff.s]\n",
    "    else:\n",
    "        print(\"Some bins have zero signal: assigning zero eff\")\n",
    "        return [0, 0]\n",
    "\n",
    "def EffTrend(cat='',var='',groupbyvar='',ptbins=[],label='',title='',plotname='',df=pd.DataFrame(),plot_dir='',Classes=[''],Colors=['']):\n",
    "    figMVAComp, axesComp = plt.subplots(1,1, figsize=(4, 4))\n",
    "    ax=axesComp\n",
    "    fulllist=[[] for i in range(len(Classes))]\n",
    "    fullliste=[[[] for i in range(2)] for i in range(len(Classes))]\n",
    "    #ptbinsmy=ptbins[:-1]\n",
    "    ptbinsmy=[(ptbins[m+1]+ptbins[m])/2 for m in range(len(ptbins)-1)]\n",
    "    if groupbyvar=='ele_pt_bin':\n",
    "        ptbinsmy[len(ptbinsmy)-1]=ptbins[len(ptbins)-2]*1.2\n",
    "    #ptbinsmy.append(ptbins[len(ptbins)-1]*1.2)\n",
    "    xefulllist=[(ptbins[m+1]-ptbins[m])/2 for m in range(len(ptbins)-1)]\n",
    "    if groupbyvar=='ele_pt_bin':\n",
    "        xefulllist[len(ptbinsmy)-1]=ptbins[len(ptbins)-2]*0.2\n",
    "    for i,group_df in df.groupby(groupbyvar):\n",
    "        for k in range(len(Classes)):\n",
    "            val=eff(group_df,var,cat,k)[0]\n",
    "            vale=eff(group_df,var,cat,k)[1]\n",
    "            fulllist[k].append(val)\n",
    "            fullliste[k][0].append(vale)\n",
    "            if val+vale<100:\n",
    "                fullliste[k][1].append(vale)\n",
    "            else:\n",
    "                fullliste[k][1].append(100-val)\n",
    "                \n",
    "        \n",
    "    for m in range(len(Classes)):\n",
    "        if len(Classes)>2:\n",
    "            if m==0 or m==1:\n",
    "                marker='S'\n",
    "            else:\n",
    "                marker='B'\n",
    "        if len(Classes)<3:\n",
    "            if m==1:\n",
    "                marker='S'\n",
    "            else:\n",
    "                marker='B'\n",
    "        ax.errorbar(ptbinsmy,fulllist[m],xerr=xefulllist,yerr=fullliste[m],markersize=6,markeredgecolor='black',label=Classes[m],color=Colors[m],fmt = '.')\n",
    "    ax.set_ylim(0,130)\n",
    "    if groupbyvar=='ele_pt_bin':\n",
    "        #ax.set_yscale('log')\n",
    "        ax.set_xlim(ptbins[0],ptbins[len(ptbins)-2]*1.4)\n",
    "        ax.text(7.5,42,title)\n",
    "    if groupbyvar=='ele_eta_bin':\n",
    "        ax.text(-1.0,42,title)\n",
    "        #ax.set_xlim(ptbins[0]*1.2,ptbins[len(ptbins)-1])\n",
    "    ax.set_xlabel(label)\n",
    "    ax.set_ylabel(\"Efficiency (%)\")\n",
    "    ax.text(0, 1, \"CMS Preliminary\", horizontalalignment = 'left', verticalalignment = 'bottom', transform=ax.transAxes, fontsize = 12)#, fontweight = 'bold')\n",
    "    ax.text(1, 1, \"13 TeV\", horizontalalignment = 'right', verticalalignment = 'bottom', transform = ax.transAxes, fontsize = 12)\n",
    "    \n",
    "    ax.grid(True)\n",
    "    #ax.legend(loc='best',ncol=2,bbox_to_anchor=(0., 1.1, 1., 0.2),fontsize=8)\n",
    "    ax.legend(loc='best',ncol=2,fontsize=10)\n",
    "    print(plot_dir, plotname)\n",
    "    figMVAComp.savefig(plot_dir+plotname+\".pdf\")\n",
    "    figMVAComp.savefig(plot_dir+plotname+\".png\")"
   ]
  },
  {
   "cell_type": "markdown",
   "id": "db1024c5",
   "metadata": {},
   "source": [
    "## Efficiency studies at 80% and 90% working points"
   ]
  },
  {
   "cell_type": "code",
   "execution_count": 33,
   "id": "0763974d",
   "metadata": {},
   "outputs": [],
   "source": [
    "SigEffWPsi=[\"80%\", \"90%\"]\n",
    "MVAs=[MVA]\n",
    "#ptbins = [4,4.5,5,5.5,6,6.5,7,7.5,8,8.5,9,9.5,10,12,15]\n",
    "#etabins = [-2.4,-2.2,-2.0,-1.8,-1.566,1.566,1.8,2.0,2.2,2.4]\n",
    "#etabins = [-1.4442,-1.1,-0.8,-0.5,0,0.5,0.8,1.1,1.4442]\n",
    "ptbins = Conf.ptbins\n",
    "etabins = Conf.etabins\n",
    "ptwtvar='scEt'\n",
    "etawtvar='scEta'"
   ]
  },
  {
   "cell_type": "code",
   "execution_count": 34,
   "id": "db1ce52e",
   "metadata": {},
   "outputs": [],
   "source": [
    "cat='Category'"
   ]
  },
  {
   "cell_type": "markdown",
   "id": "ae1f36cc",
   "metadata": {},
   "source": [
    "## Efficiency with J/psi and pi0"
   ]
  },
  {
   "cell_type": "code",
   "execution_count": 35,
   "id": "240f80a6",
   "metadata": {},
   "outputs": [
    {
     "data": {
      "text/html": [
       "<div>\n",
       "<style scoped>\n",
       "    .dataframe tbody tr th:only-of-type {\n",
       "        vertical-align: middle;\n",
       "    }\n",
       "\n",
       "    .dataframe tbody tr th {\n",
       "        vertical-align: top;\n",
       "    }\n",
       "\n",
       "    .dataframe thead th {\n",
       "        text-align: right;\n",
       "    }\n",
       "</style>\n",
       "<table border=\"1\" class=\"dataframe\">\n",
       "  <thead>\n",
       "    <tr style=\"text-align: right;\">\n",
       "      <th></th>\n",
       "      <th>scE</th>\n",
       "      <th>scEt</th>\n",
       "      <th>scEta</th>\n",
       "      <th>scPhi</th>\n",
       "      <th>scEtaWidth</th>\n",
       "      <th>scMinDrWithGsfElectornSC_</th>\n",
       "      <th>scFoundGsfMatch_</th>\n",
       "      <th>scR9</th>\n",
       "      <th>scSigmaIetaIeta</th>\n",
       "      <th>scSigmaIetaIphi</th>\n",
       "      <th>scEMaxRatio</th>\n",
       "      <th>scSwissCross</th>\n",
       "      <th>scE2x5_MaxRatio</th>\n",
       "      <th>scE2ndRatio</th>\n",
       "      <th>scPFPhoIso1</th>\n",
       "      <th>scPFPhoIso2</th>\n",
       "      <th>scPFPhoIso3</th>\n",
       "      <th>scPFPhoIso4</th>\n",
       "      <th>scPFPhoIso5</th>\n",
       "      <th>scPFChIso1</th>\n",
       "      <th>scPFChIso2</th>\n",
       "      <th>scPFChIso3</th>\n",
       "      <th>scPFChIso4</th>\n",
       "      <th>scPFChIso5</th>\n",
       "      <th>Class</th>\n",
       "      <th>Category</th>\n",
       "    </tr>\n",
       "    <tr>\n",
       "      <th>entry</th>\n",
       "      <th></th>\n",
       "      <th></th>\n",
       "      <th></th>\n",
       "      <th></th>\n",
       "      <th></th>\n",
       "      <th></th>\n",
       "      <th></th>\n",
       "      <th></th>\n",
       "      <th></th>\n",
       "      <th></th>\n",
       "      <th></th>\n",
       "      <th></th>\n",
       "      <th></th>\n",
       "      <th></th>\n",
       "      <th></th>\n",
       "      <th></th>\n",
       "      <th></th>\n",
       "      <th></th>\n",
       "      <th></th>\n",
       "      <th></th>\n",
       "      <th></th>\n",
       "      <th></th>\n",
       "      <th></th>\n",
       "      <th></th>\n",
       "      <th></th>\n",
       "      <th></th>\n",
       "    </tr>\n",
       "  </thead>\n",
       "  <tbody>\n",
       "    <tr>\n",
       "      <th>39850</th>\n",
       "      <td>29.108377</td>\n",
       "      <td>13.551785</td>\n",
       "      <td>1.398443</td>\n",
       "      <td>0.011387</td>\n",
       "      <td>0.012295</td>\n",
       "      <td>1.000000e+09</td>\n",
       "      <td>0.0</td>\n",
       "      <td>0.477794</td>\n",
       "      <td>0.013727</td>\n",
       "      <td>-1.296475e-04</td>\n",
       "      <td>0.707055</td>\n",
       "      <td>0.723227</td>\n",
       "      <td>0.956054</td>\n",
       "      <td>0.107661</td>\n",
       "      <td>6.102326</td>\n",
       "      <td>8.273237</td>\n",
       "      <td>8.741854</td>\n",
       "      <td>8.741854</td>\n",
       "      <td>9.177298</td>\n",
       "      <td>0.000000</td>\n",
       "      <td>4.773931</td>\n",
       "      <td>4.773931</td>\n",
       "      <td>6.055591</td>\n",
       "      <td>14.066456</td>\n",
       "      <td>Evaluation</td>\n",
       "      <td>0</td>\n",
       "    </tr>\n",
       "    <tr>\n",
       "      <th>100010</th>\n",
       "      <td>8.463207</td>\n",
       "      <td>8.256033</td>\n",
       "      <td>0.223559</td>\n",
       "      <td>-2.408640</td>\n",
       "      <td>0.003176</td>\n",
       "      <td>1.000000e+09</td>\n",
       "      <td>0.0</td>\n",
       "      <td>0.932140</td>\n",
       "      <td>0.005532</td>\n",
       "      <td>-7.351377e-06</td>\n",
       "      <td>0.690445</td>\n",
       "      <td>0.649943</td>\n",
       "      <td>1.000000</td>\n",
       "      <td>0.119983</td>\n",
       "      <td>0.000000</td>\n",
       "      <td>0.000000</td>\n",
       "      <td>0.492569</td>\n",
       "      <td>1.908921</td>\n",
       "      <td>2.778557</td>\n",
       "      <td>0.000000</td>\n",
       "      <td>0.968100</td>\n",
       "      <td>4.529299</td>\n",
       "      <td>5.620258</td>\n",
       "      <td>11.703186</td>\n",
       "      <td>Evaluation</td>\n",
       "      <td>0</td>\n",
       "    </tr>\n",
       "    <tr>\n",
       "      <th>116716</th>\n",
       "      <td>8.991817</td>\n",
       "      <td>6.116235</td>\n",
       "      <td>0.935238</td>\n",
       "      <td>-1.925683</td>\n",
       "      <td>0.003479</td>\n",
       "      <td>2.838519e+00</td>\n",
       "      <td>0.0</td>\n",
       "      <td>1.000000</td>\n",
       "      <td>0.006852</td>\n",
       "      <td>1.729963e-06</td>\n",
       "      <td>0.860266</td>\n",
       "      <td>0.837569</td>\n",
       "      <td>1.000000</td>\n",
       "      <td>0.060963</td>\n",
       "      <td>5.880366</td>\n",
       "      <td>5.880366</td>\n",
       "      <td>5.880366</td>\n",
       "      <td>6.448247</td>\n",
       "      <td>6.880483</td>\n",
       "      <td>0.000000</td>\n",
       "      <td>1.244473</td>\n",
       "      <td>4.117352</td>\n",
       "      <td>5.781754</td>\n",
       "      <td>7.466357</td>\n",
       "      <td>Evaluation</td>\n",
       "      <td>0</td>\n",
       "    </tr>\n",
       "    <tr>\n",
       "      <th>47554</th>\n",
       "      <td>11.405515</td>\n",
       "      <td>7.340029</td>\n",
       "      <td>-1.009133</td>\n",
       "      <td>0.807786</td>\n",
       "      <td>0.005056</td>\n",
       "      <td>1.000000e+09</td>\n",
       "      <td>0.0</td>\n",
       "      <td>0.859789</td>\n",
       "      <td>0.006219</td>\n",
       "      <td>1.801412e-05</td>\n",
       "      <td>0.719599</td>\n",
       "      <td>0.737229</td>\n",
       "      <td>1.000000</td>\n",
       "      <td>0.148473</td>\n",
       "      <td>0.223685</td>\n",
       "      <td>0.467368</td>\n",
       "      <td>1.044072</td>\n",
       "      <td>1.343908</td>\n",
       "      <td>1.879593</td>\n",
       "      <td>0.000000</td>\n",
       "      <td>0.000000</td>\n",
       "      <td>0.585084</td>\n",
       "      <td>2.822328</td>\n",
       "      <td>4.834286</td>\n",
       "      <td>Evaluation</td>\n",
       "      <td>0</td>\n",
       "    </tr>\n",
       "    <tr>\n",
       "      <th>122860</th>\n",
       "      <td>13.444103</td>\n",
       "      <td>7.012934</td>\n",
       "      <td>-1.267681</td>\n",
       "      <td>-1.744210</td>\n",
       "      <td>0.003285</td>\n",
       "      <td>6.528956e-01</td>\n",
       "      <td>0.0</td>\n",
       "      <td>0.496118</td>\n",
       "      <td>0.000003</td>\n",
       "      <td>6.203884e-10</td>\n",
       "      <td>0.859878</td>\n",
       "      <td>0.837271</td>\n",
       "      <td>1.000000</td>\n",
       "      <td>0.077531</td>\n",
       "      <td>3.874391</td>\n",
       "      <td>3.874391</td>\n",
       "      <td>3.874391</td>\n",
       "      <td>4.107496</td>\n",
       "      <td>4.107496</td>\n",
       "      <td>1.558371</td>\n",
       "      <td>1.558371</td>\n",
       "      <td>1.893281</td>\n",
       "      <td>3.746523</td>\n",
       "      <td>6.108083</td>\n",
       "      <td>Evaluation</td>\n",
       "      <td>0</td>\n",
       "    </tr>\n",
       "  </tbody>\n",
       "</table>\n",
       "</div>"
      ],
      "text/plain": [
       "              scE       scEt     scEta     scPhi  scEtaWidth  \\\n",
       "entry                                                          \n",
       "39850   29.108377  13.551785  1.398443  0.011387    0.012295   \n",
       "100010   8.463207   8.256033  0.223559 -2.408640    0.003176   \n",
       "116716   8.991817   6.116235  0.935238 -1.925683    0.003479   \n",
       "47554   11.405515   7.340029 -1.009133  0.807786    0.005056   \n",
       "122860  13.444103   7.012934 -1.267681 -1.744210    0.003285   \n",
       "\n",
       "        scMinDrWithGsfElectornSC_  scFoundGsfMatch_      scR9  \\\n",
       "entry                                                           \n",
       "39850                1.000000e+09               0.0  0.477794   \n",
       "100010               1.000000e+09               0.0  0.932140   \n",
       "116716               2.838519e+00               0.0  1.000000   \n",
       "47554                1.000000e+09               0.0  0.859789   \n",
       "122860               6.528956e-01               0.0  0.496118   \n",
       "\n",
       "        scSigmaIetaIeta  scSigmaIetaIphi  scEMaxRatio  scSwissCross  \\\n",
       "entry                                                                 \n",
       "39850          0.013727    -1.296475e-04     0.707055      0.723227   \n",
       "100010         0.005532    -7.351377e-06     0.690445      0.649943   \n",
       "116716         0.006852     1.729963e-06     0.860266      0.837569   \n",
       "47554          0.006219     1.801412e-05     0.719599      0.737229   \n",
       "122860         0.000003     6.203884e-10     0.859878      0.837271   \n",
       "\n",
       "        scE2x5_MaxRatio  scE2ndRatio  scPFPhoIso1  scPFPhoIso2  scPFPhoIso3  \\\n",
       "entry                                                                         \n",
       "39850          0.956054     0.107661     6.102326     8.273237     8.741854   \n",
       "100010         1.000000     0.119983     0.000000     0.000000     0.492569   \n",
       "116716         1.000000     0.060963     5.880366     5.880366     5.880366   \n",
       "47554          1.000000     0.148473     0.223685     0.467368     1.044072   \n",
       "122860         1.000000     0.077531     3.874391     3.874391     3.874391   \n",
       "\n",
       "        scPFPhoIso4  scPFPhoIso5  scPFChIso1  scPFChIso2  scPFChIso3  \\\n",
       "entry                                                                  \n",
       "39850      8.741854     9.177298    0.000000    4.773931    4.773931   \n",
       "100010     1.908921     2.778557    0.000000    0.968100    4.529299   \n",
       "116716     6.448247     6.880483    0.000000    1.244473    4.117352   \n",
       "47554      1.343908     1.879593    0.000000    0.000000    0.585084   \n",
       "122860     4.107496     4.107496    1.558371    1.558371    1.893281   \n",
       "\n",
       "        scPFChIso4  scPFChIso5       Class  Category  \n",
       "entry                                                 \n",
       "39850     6.055591   14.066456  Evaluation         0  \n",
       "100010    5.620258   11.703186  Evaluation         0  \n",
       "116716    5.781754    7.466357  Evaluation         0  \n",
       "47554     2.822328    4.834286  Evaluation         0  \n",
       "122860    3.746523    6.108083  Evaluation         0  "
      ]
     },
     "execution_count": 35,
     "metadata": {},
     "output_type": "execute_result"
    }
   ],
   "source": [
    "dfs_p2['Evaluation'].head()"
   ]
  },
  {
   "cell_type": "code",
   "execution_count": 36,
   "id": "c878b96d",
   "metadata": {},
   "outputs": [],
   "source": [
    "dfs_p2['Evaluation'][MVA[\"MVAtype\"]+\"_pred\"]=xgb_model.predict_proba(dataset['Evaluation']['X'])[:,0]\n",
    "dfs_p2['QCD'][MVA[\"MVAtype\"]+\"_pred\"]=xgb_model.predict_proba(dataset['QCD']['X'])[:,0]"
   ]
  },
  {
   "cell_type": "code",
   "execution_count": 37,
   "id": "0c6f40f0",
   "metadata": {},
   "outputs": [],
   "source": [
    "y_eff_df_pred_Jpsi=cv.predict_proba(dataset['Evaluation']['X'])\n",
    "y_eff_df_pred_QCD=cv.predict_proba(dataset['QCD']['X'])"
   ]
  },
  {
   "cell_type": "code",
   "execution_count": 38,
   "id": "1383bcc2",
   "metadata": {},
   "outputs": [],
   "source": [
    "y_eff_df_pred=np.concatenate([y_eff_df_pred_Jpsi,y_eff_df_pred_QCD],axis=0)"
   ]
  },
  {
   "cell_type": "code",
   "execution_count": 39,
   "id": "c3e3695e",
   "metadata": {},
   "outputs": [
    {
     "data": {
      "text/plain": [
       "(179950, 2)"
      ]
     },
     "execution_count": 39,
     "metadata": {},
     "output_type": "execute_result"
    }
   ],
   "source": [
    "y_eff_df_pred.shape"
   ]
  },
  {
   "cell_type": "code",
   "execution_count": 40,
   "id": "f34a6621",
   "metadata": {},
   "outputs": [],
   "source": [
    "eff_df = pd.concat([dfs_p2['Evaluation'],dfs_p2['QCD']])"
   ]
  },
  {
   "cell_type": "code",
   "execution_count": 41,
   "id": "2e75862d",
   "metadata": {},
   "outputs": [
    {
     "data": {
      "text/html": [
       "<div>\n",
       "<style scoped>\n",
       "    .dataframe tbody tr th:only-of-type {\n",
       "        vertical-align: middle;\n",
       "    }\n",
       "\n",
       "    .dataframe tbody tr th {\n",
       "        vertical-align: top;\n",
       "    }\n",
       "\n",
       "    .dataframe thead th {\n",
       "        text-align: right;\n",
       "    }\n",
       "</style>\n",
       "<table border=\"1\" class=\"dataframe\">\n",
       "  <thead>\n",
       "    <tr style=\"text-align: right;\">\n",
       "      <th></th>\n",
       "      <th>scE</th>\n",
       "      <th>scEt</th>\n",
       "      <th>scEta</th>\n",
       "      <th>scPhi</th>\n",
       "      <th>scEtaWidth</th>\n",
       "      <th>scMinDrWithGsfElectornSC_</th>\n",
       "      <th>scFoundGsfMatch_</th>\n",
       "      <th>scR9</th>\n",
       "      <th>scSigmaIetaIeta</th>\n",
       "      <th>scSigmaIetaIphi</th>\n",
       "      <th>scEMaxRatio</th>\n",
       "      <th>scSwissCross</th>\n",
       "      <th>scE2x5_MaxRatio</th>\n",
       "      <th>scE2ndRatio</th>\n",
       "      <th>scPFPhoIso1</th>\n",
       "      <th>scPFPhoIso2</th>\n",
       "      <th>scPFPhoIso3</th>\n",
       "      <th>scPFPhoIso4</th>\n",
       "      <th>scPFPhoIso5</th>\n",
       "      <th>scPFChIso1</th>\n",
       "      <th>scPFChIso2</th>\n",
       "      <th>scPFChIso3</th>\n",
       "      <th>scPFChIso4</th>\n",
       "      <th>scPFChIso5</th>\n",
       "      <th>Class</th>\n",
       "      <th>Category</th>\n",
       "      <th>XGB_1_pred</th>\n",
       "    </tr>\n",
       "    <tr>\n",
       "      <th>entry</th>\n",
       "      <th></th>\n",
       "      <th></th>\n",
       "      <th></th>\n",
       "      <th></th>\n",
       "      <th></th>\n",
       "      <th></th>\n",
       "      <th></th>\n",
       "      <th></th>\n",
       "      <th></th>\n",
       "      <th></th>\n",
       "      <th></th>\n",
       "      <th></th>\n",
       "      <th></th>\n",
       "      <th></th>\n",
       "      <th></th>\n",
       "      <th></th>\n",
       "      <th></th>\n",
       "      <th></th>\n",
       "      <th></th>\n",
       "      <th></th>\n",
       "      <th></th>\n",
       "      <th></th>\n",
       "      <th></th>\n",
       "      <th></th>\n",
       "      <th></th>\n",
       "      <th></th>\n",
       "      <th></th>\n",
       "    </tr>\n",
       "  </thead>\n",
       "  <tbody>\n",
       "    <tr>\n",
       "      <th>89157</th>\n",
       "      <td>7.562125</td>\n",
       "      <td>4.767888</td>\n",
       "      <td>-1.035721</td>\n",
       "      <td>2.602762</td>\n",
       "      <td>0.011889</td>\n",
       "      <td>3.404018e+00</td>\n",
       "      <td>0.0</td>\n",
       "      <td>0.481671</td>\n",
       "      <td>0.012813</td>\n",
       "      <td>-0.000045</td>\n",
       "      <td>0.303147</td>\n",
       "      <td>0.017608</td>\n",
       "      <td>0.844642</td>\n",
       "      <td>0.243686</td>\n",
       "      <td>1.344590</td>\n",
       "      <td>15.992539</td>\n",
       "      <td>18.548315</td>\n",
       "      <td>18.548315</td>\n",
       "      <td>18.881708</td>\n",
       "      <td>8.110306</td>\n",
       "      <td>14.322995</td>\n",
       "      <td>16.238436</td>\n",
       "      <td>22.092487</td>\n",
       "      <td>31.835617</td>\n",
       "      <td>QCD</td>\n",
       "      <td>1</td>\n",
       "      <td>0.015785</td>\n",
       "    </tr>\n",
       "    <tr>\n",
       "      <th>113735</th>\n",
       "      <td>10.841538</td>\n",
       "      <td>10.838780</td>\n",
       "      <td>0.022557</td>\n",
       "      <td>-0.170370</td>\n",
       "      <td>0.009259</td>\n",
       "      <td>1.000000e+09</td>\n",
       "      <td>0.0</td>\n",
       "      <td>0.556960</td>\n",
       "      <td>0.008873</td>\n",
       "      <td>0.000034</td>\n",
       "      <td>0.728282</td>\n",
       "      <td>0.693623</td>\n",
       "      <td>1.000000</td>\n",
       "      <td>0.110164</td>\n",
       "      <td>8.362333</td>\n",
       "      <td>9.916665</td>\n",
       "      <td>12.026911</td>\n",
       "      <td>13.040569</td>\n",
       "      <td>13.851529</td>\n",
       "      <td>4.354235</td>\n",
       "      <td>5.355173</td>\n",
       "      <td>12.051841</td>\n",
       "      <td>17.849314</td>\n",
       "      <td>21.957048</td>\n",
       "      <td>QCD</td>\n",
       "      <td>1</td>\n",
       "      <td>0.222395</td>\n",
       "    </tr>\n",
       "    <tr>\n",
       "      <th>110389</th>\n",
       "      <td>6.715483</td>\n",
       "      <td>4.050268</td>\n",
       "      <td>1.092112</td>\n",
       "      <td>-1.465637</td>\n",
       "      <td>0.000240</td>\n",
       "      <td>8.427765e-02</td>\n",
       "      <td>0.0</td>\n",
       "      <td>1.000000</td>\n",
       "      <td>0.000000</td>\n",
       "      <td>0.000000</td>\n",
       "      <td>0.869293</td>\n",
       "      <td>0.849640</td>\n",
       "      <td>1.000000</td>\n",
       "      <td>0.130707</td>\n",
       "      <td>10.100873</td>\n",
       "      <td>10.909664</td>\n",
       "      <td>11.084140</td>\n",
       "      <td>11.898329</td>\n",
       "      <td>14.457467</td>\n",
       "      <td>0.000000</td>\n",
       "      <td>11.663010</td>\n",
       "      <td>16.384821</td>\n",
       "      <td>21.000664</td>\n",
       "      <td>37.382900</td>\n",
       "      <td>QCD</td>\n",
       "      <td>1</td>\n",
       "      <td>0.371142</td>\n",
       "    </tr>\n",
       "    <tr>\n",
       "      <th>37762</th>\n",
       "      <td>6.805326</td>\n",
       "      <td>6.616670</td>\n",
       "      <td>0.238234</td>\n",
       "      <td>1.617537</td>\n",
       "      <td>0.005137</td>\n",
       "      <td>2.278009e+00</td>\n",
       "      <td>0.0</td>\n",
       "      <td>0.561035</td>\n",
       "      <td>0.008354</td>\n",
       "      <td>-0.000016</td>\n",
       "      <td>0.747327</td>\n",
       "      <td>0.661897</td>\n",
       "      <td>1.000000</td>\n",
       "      <td>0.161702</td>\n",
       "      <td>3.392379</td>\n",
       "      <td>6.150554</td>\n",
       "      <td>6.792675</td>\n",
       "      <td>8.727042</td>\n",
       "      <td>9.893044</td>\n",
       "      <td>0.700303</td>\n",
       "      <td>20.956936</td>\n",
       "      <td>29.455576</td>\n",
       "      <td>33.166481</td>\n",
       "      <td>45.408375</td>\n",
       "      <td>QCD</td>\n",
       "      <td>1</td>\n",
       "      <td>0.144132</td>\n",
       "    </tr>\n",
       "    <tr>\n",
       "      <th>48609</th>\n",
       "      <td>6.307149</td>\n",
       "      <td>5.806838</td>\n",
       "      <td>0.412188</td>\n",
       "      <td>1.078418</td>\n",
       "      <td>0.010328</td>\n",
       "      <td>1.000000e+09</td>\n",
       "      <td>0.0</td>\n",
       "      <td>0.950740</td>\n",
       "      <td>0.011981</td>\n",
       "      <td>-0.000151</td>\n",
       "      <td>0.361472</td>\n",
       "      <td>0.378502</td>\n",
       "      <td>0.896093</td>\n",
       "      <td>0.309966</td>\n",
       "      <td>0.577515</td>\n",
       "      <td>1.134145</td>\n",
       "      <td>2.270249</td>\n",
       "      <td>2.522642</td>\n",
       "      <td>4.021448</td>\n",
       "      <td>29.574282</td>\n",
       "      <td>37.816601</td>\n",
       "      <td>42.870281</td>\n",
       "      <td>44.709839</td>\n",
       "      <td>49.664734</td>\n",
       "      <td>QCD</td>\n",
       "      <td>1</td>\n",
       "      <td>0.003119</td>\n",
       "    </tr>\n",
       "  </tbody>\n",
       "</table>\n",
       "</div>"
      ],
      "text/plain": [
       "              scE       scEt     scEta     scPhi  scEtaWidth  \\\n",
       "entry                                                          \n",
       "89157    7.562125   4.767888 -1.035721  2.602762    0.011889   \n",
       "113735  10.841538  10.838780  0.022557 -0.170370    0.009259   \n",
       "110389   6.715483   4.050268  1.092112 -1.465637    0.000240   \n",
       "37762    6.805326   6.616670  0.238234  1.617537    0.005137   \n",
       "48609    6.307149   5.806838  0.412188  1.078418    0.010328   \n",
       "\n",
       "        scMinDrWithGsfElectornSC_  scFoundGsfMatch_      scR9  \\\n",
       "entry                                                           \n",
       "89157                3.404018e+00               0.0  0.481671   \n",
       "113735               1.000000e+09               0.0  0.556960   \n",
       "110389               8.427765e-02               0.0  1.000000   \n",
       "37762                2.278009e+00               0.0  0.561035   \n",
       "48609                1.000000e+09               0.0  0.950740   \n",
       "\n",
       "        scSigmaIetaIeta  scSigmaIetaIphi  scEMaxRatio  scSwissCross  \\\n",
       "entry                                                                 \n",
       "89157          0.012813        -0.000045     0.303147      0.017608   \n",
       "113735         0.008873         0.000034     0.728282      0.693623   \n",
       "110389         0.000000         0.000000     0.869293      0.849640   \n",
       "37762          0.008354        -0.000016     0.747327      0.661897   \n",
       "48609          0.011981        -0.000151     0.361472      0.378502   \n",
       "\n",
       "        scE2x5_MaxRatio  scE2ndRatio  scPFPhoIso1  scPFPhoIso2  scPFPhoIso3  \\\n",
       "entry                                                                         \n",
       "89157          0.844642     0.243686     1.344590    15.992539    18.548315   \n",
       "113735         1.000000     0.110164     8.362333     9.916665    12.026911   \n",
       "110389         1.000000     0.130707    10.100873    10.909664    11.084140   \n",
       "37762          1.000000     0.161702     3.392379     6.150554     6.792675   \n",
       "48609          0.896093     0.309966     0.577515     1.134145     2.270249   \n",
       "\n",
       "        scPFPhoIso4  scPFPhoIso5  scPFChIso1  scPFChIso2  scPFChIso3  \\\n",
       "entry                                                                  \n",
       "89157     18.548315    18.881708    8.110306   14.322995   16.238436   \n",
       "113735    13.040569    13.851529    4.354235    5.355173   12.051841   \n",
       "110389    11.898329    14.457467    0.000000   11.663010   16.384821   \n",
       "37762      8.727042     9.893044    0.700303   20.956936   29.455576   \n",
       "48609      2.522642     4.021448   29.574282   37.816601   42.870281   \n",
       "\n",
       "        scPFChIso4  scPFChIso5 Class  Category  XGB_1_pred  \n",
       "entry                                                       \n",
       "89157    22.092487   31.835617   QCD         1    0.015785  \n",
       "113735   17.849314   21.957048   QCD         1    0.222395  \n",
       "110389   21.000664   37.382900   QCD         1    0.371142  \n",
       "37762    33.166481   45.408375   QCD         1    0.144132  \n",
       "48609    44.709839   49.664734   QCD         1    0.003119  "
      ]
     },
     "execution_count": 41,
     "metadata": {},
     "output_type": "execute_result"
    }
   ],
   "source": [
    "eff_df.tail()"
   ]
  },
  {
   "cell_type": "code",
   "execution_count": 42,
   "id": "80fd00eb",
   "metadata": {},
   "outputs": [
    {
     "name": "stdout",
     "output_type": "stream",
     "text": [
      "['XGB_1_pred']\n",
      "0.19999999999999996\n",
      "0.09999999999999998\n",
      "0.1\n",
      "BinaryClassification_XGBoost_barrel-v1/ Binary_eff_validation_0.2_ele_pt_bin\n",
      "BinaryClassification_XGBoost_barrel-v1/ Binary_eff_validation_0.1_ele_pt_bin\n",
      "0.1\n",
      "BinaryClassification_XGBoost_barrel-v1/ Binary_eff_validation_0.2_ele_eta_bin\n",
      "BinaryClassification_XGBoost_barrel-v1/ Binary_eff_validation_0.1_ele_eta_bin\n"
     ]
    },
    {
     "data": {
      "image/png": "[encoded data removed]",
      "text/plain": [
       "<Figure size 288x288 with 1 Axes>"
      ]
     },
     "metadata": {
      "needs_background": "light"
     },
     "output_type": "display_data"
    },
    {
     "data": {
      "image/png": "[encoded data removed]",
      "text/plain": [
       "<Figure size 288x288 with 1 Axes>"
      ]
     },
     "metadata": {
      "needs_background": "light"
     },
     "output_type": "display_data"
    },
    {
     "data": {
      "image/png": "[encoded data removed]",
      "text/plain": [
       "<Figure size 288x288 with 1 Axes>"
      ]
     },
     "metadata": {
      "needs_background": "light"
     },
     "output_type": "display_data"
    },
    {
     "data": {
      "image/png": "[encoded data removed]",
      "text/plain": [
       "<Figure size 288x288 with 1 Axes>"
      ]
     },
     "metadata": {
      "needs_background": "light"
     },
     "output_type": "display_data"
    }
   ],
   "source": [
    "if len(SigEffWPsi)>0:\n",
    "    PredMVAs=[]\n",
    "    for MVA in MVAs:\n",
    "        PredMVAs.append(MVA[\"MVAtype\"]+'_pred')\n",
    "        print(PredMVAs)\n",
    "    SigEffWPs=SigEffWPsi[:]\n",
    "    for i,SigEffWPi in enumerate(SigEffWPs):\n",
    "        SigEffWPs[i]=1-(int(SigEffWPi.replace('%', ''))/100)\n",
    "        print(SigEffWPs[i])\n",
    "    \n",
    "    \n",
    "    for MVA in MVAs:\n",
    "\n",
    "        eff_df[\"ele_pt_bin\"] = pd.cut(eff_df[ptwtvar], bins=ptbins, labels=list(range(len(ptbins)-1)))\n",
    "        eff_df[\"ele_eta_bin\"] = pd.cut(eff_df[etawtvar], bins=etabins, labels=list(range(len(etabins)-1)))\n",
    "\n",
    "\n",
    "        if len(Classes) > 2:\n",
    "            \n",
    "            mydftest=eff_df.query(cat+\"==1 | \"+cat+\"==0\")[[MVA[\"MVAtype\"]+\"_pred\"]].quantile(SigEffWPs)\n",
    "            \n",
    "            #figMVA, axesMVA = plt.subplots(1, n_classes, figsize=(5, 5))\n",
    "            #plot_mva(EB_train, MVA[\"MVAtype\"]+\"_pred\", 100, logscale=False, ax=axMVA, title=\"Combined Score\", ls='dashed', alpha=0.5, sample='Train',cat=\"Class\",Wt=\"Wt\",Classes=Classes,Colors=ClassColors)\n",
    "            \n",
    "        if len(Classes) < 3:\n",
    "            \n",
    "            mydftest=eff_df.query(cat+\"==0\")[[MVA[\"MVAtype\"]+\"_pred\"]].quantile(SigEffWPs)\n",
    "            #print(\"iat:  \" , mydftest.iat[1,0])\n",
    "\n",
    "        \n",
    "        #print(mydftest.head())\n",
    "\n",
    "       \n",
    "        #if XGB_prediction value is greter than 20% or 10% quantile then put at those locations of XGB_1_pred = 1 otherwise 0\n",
    "        eff_df.loc[eff_df[MVA[\"MVAtype\"]+\"_pred\"] > mydftest.iat[0,0], MVA[\"MVAtype\"]+\"_predpass\"] = 1\n",
    "        eff_df.loc[eff_df[MVA[\"MVAtype\"]+\"_pred\"] < mydftest.iat[0,0], MVA[\"MVAtype\"]+\"_predpass\"] = 0\n",
    "\n",
    "        eff_df.loc[eff_df[MVA[\"MVAtype\"]+\"_pred\"] > mydftest.iat[1,0], MVA[\"MVAtype\"]+\"_predpass1\"] = 1\n",
    "        eff_df.loc[eff_df[MVA[\"MVAtype\"]+\"_pred\"] < mydftest.iat[1,0], MVA[\"MVAtype\"]+\"_predpass1\"] = 0\n",
    "\n",
    "        variables=['ele_pt_bin','ele_eta_bin']\n",
    "        bins=[ptbins,etabins]\n",
    "        xaxislabels=['$p_T$ (GeV)','$\\eta$']\n",
    "        #Wps=OverlayWP\n",
    "\n",
    "        for variable,xaxislabel,binn in zip(variables,xaxislabels,bins):\n",
    "           \n",
    "            print(round(SigEffWPs[1],1))\n",
    "            #for Wp in Wps:\n",
    "             #   EffTrend(cat=cat,var=Wp,groupbyvar=variable,ptbins=binn, label=xaxislabel,title='CMSSW_ID_'+Wp,plotname=\"CMSSW_ID_\"+Wp+\"_\"+variable,df=EB_train,plot_dir=OutputDirName+\"/\"+MVA[\"MVAtype\"]+\"/Train_\",Classes=Classes,Colors=ClassColors)\n",
    "\n",
    "\n",
    "            EffTrend(cat=cat,var=MVA[\"MVAtype\"]+\"_predpass\",groupbyvar=variable,ptbins=binn,label=xaxislabel,title=f\"At {SigEffWPsi[0]} overall signal efficiency\",plotname=\"Binary_eff_validation_\"+str(round(SigEffWPs[0],1))+\"_\"+variable,df=eff_df,plot_dir=Conf.OutputDirName+\"/\",Classes=['Bs-> J/psi gamma','QCD'],Colors=ClassColors)\n",
    "            EffTrend(cat=cat,var=MVA[\"MVAtype\"]+\"_predpass1\",groupbyvar=variable,ptbins=binn,label=xaxislabel,title=f\"At {SigEffWPsi[1]} overall signal efficiency\",plotname=\"Binary_eff_validation_\"+str(round(SigEffWPs[1],1))+\"_\"+variable,df=eff_df,plot_dir=Conf.OutputDirName+\"/\",Classes=['Bs-> J/psi gamma','QCD'],Colors=ClassColors)"
   ]
  },
  {
   "cell_type": "code",
   "execution_count": 43,
   "id": "0a6bd545",
   "metadata": {},
   "outputs": [
    {
     "data": {
      "text/plain": [
       "'BinaryClassification_XGBoost_barrel-v1'"
      ]
     },
     "execution_count": 43,
     "metadata": {},
     "output_type": "execute_result"
    }
   ],
   "source": [
    "Conf.OutputDirName"
   ]
  },
  {
   "cell_type": "code",
   "execution_count": 44,
   "id": "4e275e1a",
   "metadata": {},
   "outputs": [
    {
     "name": "stdout",
     "output_type": "stream",
     "text": [
      "0\n",
      "1\n"
     ]
    },
    {
     "data": {
      "image/png": "[encoded data removed]",
      "text/plain": [
       "<Figure size 360x360 with 1 Axes>"
      ]
     },
     "metadata": {
      "needs_background": "light"
     },
     "output_type": "display_data"
    }
   ],
   "source": [
    "from sklearn.metrics import roc_curve, auc\n",
    "\n",
    "n_classes=len(Classes)\n",
    "figMVA, axesMVA = plt.subplots(1, 1, figsize=(5,5))   \n",
    "\n",
    "axMVA=axesMVA\n",
    "for k in range(n_classes):\n",
    "    print(k)\n",
    "    axMVA.hist(y_test_pred[:, 0][Y_test_cat[:, k]==1],bins=np.linspace(0, 1, 21),label=Classes[k]+'_test',\n",
    "                weights=plotwt_test[Y_test_cat[:, k]==1]/np.sum(plotwt_test[Y_test_cat[:, k]==1]),\n",
    "                histtype='step',linewidth=2,color=ClassColors[k])\n",
    "        \n",
    "    axMVA.hist(y_train_pred[:, 0][Y_train_cat[:, k]==1],bins=np.linspace(0, 1, 21),label=Classes[k]+'_train',\n",
    "               weights=plotwt_train[Y_train_cat[:, k]==1]/np.sum(plotwt_train[Y_train_cat[:, k]==1]),\n",
    "               histtype='stepfilled',alpha=0.3,linewidth=2,color=ClassColors[k])\n",
    "        \n",
    "    axMVA.set_xlabel('Score',fontsize=10)\n",
    "        \n",
    "    axMVA.set_ylabel('Fraction of events',fontsize=10)\n",
    "    axMVA.legend(loc=\"best\",fontsize=10)\n",
    "    axMVA.text(0, 1, \"CMS Preliminary\", horizontalalignment = 'left', verticalalignment = 'bottom', transform=axMVA.transAxes, fontsize = 12)#, fontweight = 'bold')\n",
    "        \n",
    "    axMVA.text(1, 1, \"13 TeV\", horizontalalignment = 'right', verticalalignment = 'bottom', transform = axMVA.transAxes, fontsize = 12)\n",
    "    #axMVA.set_yscale('log')"
   ]
  },
  {
   "cell_type": "code",
   "execution_count": 45,
   "id": "cc80c408",
   "metadata": {},
   "outputs": [],
   "source": [
    "Y_eff_df=eff_df['Category']"
   ]
  },
  {
   "cell_type": "code",
   "execution_count": 46,
   "id": "54607db4",
   "metadata": {},
   "outputs": [
    {
     "data": {
      "text/plain": [
       "entry\n",
       "39850     0\n",
       "100010    0\n",
       "116716    0\n",
       "47554     0\n",
       "122860    0\n",
       "         ..\n",
       "89157     1\n",
       "113735    1\n",
       "110389    1\n",
       "37762     1\n",
       "48609     1\n",
       "Name: Category, Length: 179950, dtype: int64"
      ]
     },
     "execution_count": 46,
     "metadata": {},
     "output_type": "execute_result"
    }
   ],
   "source": [
    "Y_eff_df"
   ]
  },
  {
   "cell_type": "code",
   "execution_count": 47,
   "id": "61d30308",
   "metadata": {},
   "outputs": [],
   "source": [
    "Y_eff_df_cat = to_categorical(Y_eff_df, num_classes=2)"
   ]
  },
  {
   "cell_type": "code",
   "execution_count": 48,
   "id": "4c83f2cc",
   "metadata": {},
   "outputs": [],
   "source": [
    "eff_df['xsecwt']=1"
   ]
  },
  {
   "cell_type": "code",
   "execution_count": 49,
   "id": "a96f8605",
   "metadata": {},
   "outputs": [],
   "source": [
    "plotwt_eff_ef = np.asarray(eff_df['xsecwt'])"
   ]
  },
  {
   "cell_type": "code",
   "execution_count": 50,
   "id": "31c19622",
   "metadata": {},
   "outputs": [
    {
     "data": {
      "text/plain": [
       "(179950,)"
      ]
     },
     "execution_count": 50,
     "metadata": {},
     "output_type": "execute_result"
    }
   ],
   "source": [
    "plotwt_eff_ef.shape"
   ]
  },
  {
   "cell_type": "code",
   "execution_count": 51,
   "id": "195492e2",
   "metadata": {},
   "outputs": [
    {
     "data": {
      "text/plain": [
       "(87162, 2)"
      ]
     },
     "execution_count": 51,
     "metadata": {},
     "output_type": "execute_result"
    }
   ],
   "source": [
    "Y_test_cat.shape"
   ]
  },
  {
   "cell_type": "code",
   "execution_count": 52,
   "id": "6543f063",
   "metadata": {},
   "outputs": [
    {
     "name": "stdout",
     "output_type": "stream",
     "text": [
      "0\n",
      "1\n"
     ]
    },
    {
     "data": {
      "image/png": "[encoded data removed]",
      "text/plain": [
       "<Figure size 360x360 with 1 Axes>"
      ]
     },
     "metadata": {
      "needs_background": "light"
     },
     "output_type": "display_data"
    }
   ],
   "source": [
    "#plotwt_eff_df=np.asarray(eff_df.loc[TrainIndices,'xsecwt'])\n",
    "\n",
    "from sklearn.metrics import roc_curve, auc\n",
    "eff_classes = [\"Bs->JpsiGamma\",\"QCD\"]\n",
    "eff_classes_color = [\"b\",\"r\"]\n",
    "\n",
    "n_classes=len(Classes)\n",
    "figMVA, axesMVA = plt.subplots(1, 1, figsize=(5,5))   \n",
    "\n",
    "axMVA=axesMVA\n",
    "for k in range(n_classes):\n",
    "    print(k)\n",
    "    axMVA.hist(y_eff_df_pred[:, 0][Y_eff_df_cat[:, k]==1],bins=np.linspace(0, 1, 21),label=eff_classes[k],\n",
    "                weights=plotwt_eff_ef[Y_eff_df_cat[:, k]==1]/np.sum(plotwt_eff_ef[Y_eff_df_cat[:, k]==1]),\n",
    "                histtype='step',linewidth=2,color=eff_classes_color[k])\n",
    "    \n",
    "    axMVA.hist(y_test_pred[:, 0][Y_test_cat[:, k]==1],bins=np.linspace(0, 1, 21),label=Classes[k],\n",
    "               weights=plotwt_test[Y_test_cat[:, k]==1]/np.sum(plotwt_test[Y_test_cat[:, k]==1]),\n",
    "               histtype='step',linewidth=2,color=ClassColors[k])\n",
    "        \n",
    "\n",
    "        \n",
    "    axMVA.set_xlabel('Score',fontsize=10)\n",
    "        \n",
    "    axMVA.set_ylabel('Fraction of events',fontsize=10)\n",
    "    axMVA.legend(loc=\"best\",fontsize=10)\n",
    "    axMVA.text(0, 1, \"CMS Preliminary\", horizontalalignment = 'left', verticalalignment = 'bottom', transform=axMVA.transAxes, fontsize = 12)#, fontweight = 'bold')\n",
    "        \n",
    "    axMVA.text(1, 1, \"13 TeV\", horizontalalignment = 'right', verticalalignment = 'bottom', transform = axMVA.transAxes, fontsize = 12)\n",
    "    figMVA.savefig(\"MVA_score_Bsjpsi_QCD_validation.png\")\n",
    "    figMVA.savefig(\"MVA_score_Bsjpsi_QCD_validation.pdf\")\n",
    "\n",
    "    #axMVA.set_yscale('log')"
   ]
  },
  {
   "cell_type": "code",
   "execution_count": 53,
   "id": "3fd76925",
   "metadata": {},
   "outputs": [
    {
     "data": {
      "text/plain": [
       "(261484,)"
      ]
     },
     "execution_count": 53,
     "metadata": {},
     "output_type": "execute_result"
    }
   ],
   "source": [
    "plotwt_train.shape"
   ]
  },
  {
   "cell_type": "code",
   "execution_count": null,
   "id": "b34813c6",
   "metadata": {},
   "outputs": [],
   "source": []
  }
 ],
 "metadata": {
  "kernelspec": {
   "display_name": "Python 3",
   "language": "python",
   "name": "python3"
  },
  "language_info": {
   "codemirror_mode": {
    "name": "ipython",
    "version": 3
   },
   "file_extension": ".py",
   "mimetype": "text/x-python",
   "name": "python",
   "nbconvert_exporter": "python",
   "pygments_lexer": "ipython3",
   "version": "3.9.12"
  }
 },
 "nbformat": 4,
 "nbformat_minor": 5
}
