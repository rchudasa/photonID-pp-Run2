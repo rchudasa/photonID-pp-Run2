{
 "cells": [
  {
   "cell_type": "markdown",
   "id": "49835db8",
   "metadata": {},
   "source": [
    "## import the libraries "
   ]
  },
  {
   "cell_type": "code",
   "execution_count": 1,
   "id": "61865d3f",
   "metadata": {},
   "outputs": [],
   "source": [
    "import warnings\n",
    "warnings.filterwarnings('ignore')"
   ]
  },
  {
   "cell_type": "code",
   "execution_count": 2,
   "id": "c178d002",
   "metadata": {},
   "outputs": [],
   "source": [
    "import uproot3\n",
    "import dask.dataframe as dd\n",
    "import time\n",
    "from dask import delayed\n",
    "import numpy as np\n",
    "import pandas as pd\n",
    "import matplotlib as mpl\n",
    "mpl.rcParams['figure.dpi'] = 200\n",
    "from matplotlib import rcParams\n",
    "rcParams.update({'figure.autolayout': True})\n",
    "import seaborn as sns\n",
    "import os\n",
    "\n",
    "pd.pandas.set_option('display.max_columns',None)"
   ]
  },
  {
   "cell_type": "markdown",
   "id": "fb431ddc",
   "metadata": {},
   "source": [
    "## Check if jupyter notebook or script"
   ]
  },
  {
   "cell_type": "code",
   "execution_count": 3,
   "id": "20bca186",
   "metadata": {},
   "outputs": [],
   "source": [
    "def in_ipynb():\n",
    "    try:\n",
    "        cfg = get_ipython().config\n",
    "        print(cfg)\n",
    "        if 'jupyter' in cfg['IPKernelApp']['connection_file']:\n",
    "            return True\n",
    "        else:\n",
    "            return False\n",
    "    except NameError:\n",
    "        return False"
   ]
  },
  {
   "cell_type": "code",
   "execution_count": 4,
   "id": "ff385e90",
   "metadata": {
    "scrolled": true
   },
   "outputs": [
    {
     "name": "stdout",
     "output_type": "stream",
     "text": [
      "{'IPKernelApp': {'connection_file': '/scratch/rchudasa/.local/share/jupyter/runtime/kernel-03d14db9-0530-4be0-80c5-3a13c6a56d8b.json'}, 'InteractiveShellApp': {'extensions': <LazyConfigValue value=['sparkmonitor.kernelextension', 'swankernelenv']>}}\n",
      "In IPython\n"
     ]
    },
    {
     "name": "stderr",
     "output_type": "stream",
     "text": [
      "2022-11-11 13:25:02.537829: W tensorflow/stream_executor/platform/default/dso_loader.cc:64] Could not load dynamic library 'libcudart.so.11.0'; dlerror: libcudart.so.11.0: cannot open shared object file: No such file or directory; LD_LIBRARY_PATH: /cvmfs/sft.cern.ch/lcg/releases/MCGenerators/thepeg/2.2.3-88592/x86_64-centos7-gcc11-opt/lib/ThePEG:/cvmfs/sft.cern.ch/lcg/releases/MCGenerators/herwig++/7.2.3-35f7a/x86_64-centos7-gcc11-opt/lib/Herwig:/cvmfs/sft.cern.ch/lcg/views/LCG_102swan/x86_64-centos7-gcc11-opt/lib/python3.9/site-packages/jaxlib/mlir/_mlir_libs:/cvmfs/sft.cern.ch/lcg/views/LCG_102swan/x86_64-centos7-gcc11-opt/lib/python3.9/site-packages/torch/lib:/cvmfs/sft.cern.ch/lcg/views/LCG_102swan/x86_64-centos7-gcc11-opt/lib/python3.9/site-packages/onnxruntime/capi/:/cvmfs/sft.cern.ch/lcg/views/LCG_102swan/x86_64-centos7-gcc11-opt/lib/python3.9/site-packages/tensorflow:/cvmfs/sft.cern.ch/lcg/views/LCG_102swan/x86_64-centos7-gcc11-opt/lib/python3.9/site-packages/tensorflow/contrib/tensor_forest:/cvmfs/sft.cern.ch/lcg/views/LCG_102swan/x86_64-centos7-gcc11-opt/lib/python3.9/site-packages/tensorflow/python/framework:/cvmfs/sft.cern.ch/lcg/releases/java/11.0.14p1-8284a/x86_64-centos7-gcc11-opt/jre/lib/amd64:/cvmfs/sft.cern.ch/lcg/views/LCG_102swan/x86_64-centos7-gcc11-opt/lib64:/cvmfs/sft.cern.ch/lcg/views/LCG_102swan/x86_64-centos7-gcc11-opt/lib:/cvmfs/sft.cern.ch/lcg/releases/gcc/11.2.0-8a51a/x86_64-centos7/lib:/cvmfs/sft.cern.ch/lcg/releases/gcc/11.2.0-8a51a/x86_64-centos7/lib64:/cvmfs/sft.cern.ch/lcg/releases/binutils/2.37-355ed/x86_64-centos7/lib:/usr/local/lib/:/cvmfs/sft.cern.ch/lcg/releases/R/4.1.2-f9ee4/x86_64-centos7-gcc11-opt/lib64/R/library/readr/rcon\n",
      "2022-11-11 13:25:02.537873: I tensorflow/stream_executor/cuda/cudart_stub.cc:29] Ignore above cudart dlerror if you do not have a GPU set up on your machine.\n"
     ]
    }
   ],
   "source": [
    "if in_ipynb():\n",
    "    print(\"In IPython\")\n",
    "    TrainConfig=\"Configs/BinaryClassification_XGBoost_endcap_balancedDataset.py\"\n",
    "    exec(\"import \"+TrainConfig.replace(\"/\", \".\")+\" as Conf\")\n",
    "else:\n",
    "    TrainConfig=sys.argv[1]\n",
    "    print(\"Importing settings from \"+ TrainConfig.replace(\"/\", \".\"))\n",
    "    #exec(\"from \"+TrainConfig+\" import *\")\n",
    "    importConfig=TrainConfig.replace(\"/\", \".\")\n",
    "    exec(\"import \"+importConfig+\" as Conf\")"
   ]
  },
  {
   "cell_type": "markdown",
   "id": "187388a9",
   "metadata": {},
   "source": [
    "### Function to return pandas dataframe from root file "
   ]
  },
  {
   "cell_type": "code",
   "execution_count": 5,
   "id": "8ed47f42",
   "metadata": {},
   "outputs": [],
   "source": [
    "def get_pandasDataFrame(process,cat,path,fileName,treeName,branches,selection,fraction):\n",
    "    print(selection)\n",
    "    eventsPhoton  = uproot3.open(path+fileName)[treeName]\n",
    "    #pd_dataframe  = eventsPhoton.pandas.df(branches=branches)\n",
    "    pd_dataframe  = eventsPhoton.pandas.df(branches=branches).query(selection)\n",
    "    pd_dataframe['Class'] = process\n",
    "    pd_dataframe['Category'] = cat\n",
    "    pd_dataframe = pd_dataframe.sample(frac=fraction)\n",
    "    \n",
    "    print(pd_dataframe.shape)\n",
    "    return pd_dataframe\n",
    "\n",
    " \n",
    "def MyBins(lower,upper,step): return np.arange(lower,upper,step).tolist() \n",
    "\n",
    "def PrepDataset(df_final,TrainIndices,TestIndices,features,cat,weight):\n",
    "    X_train = df_final.loc[TrainIndices,features]\n",
    "    Y_train = df_final.loc[TrainIndices,cat]\n",
    "    Wt_train = df_final.loc[TrainIndices,weight]\n",
    "\n",
    "    X_test = df_final.loc[TestIndices,features]\n",
    "    Y_test = df_final.loc[TestIndices,cat]\n",
    "    Wt_test = df_final.loc[TestIndices,weight]\n",
    "    return np.asarray(X_train), np.asarray(Y_train), np.asarray(Wt_train), np.asarray(X_test), np.asarray(Y_test), np.asarray(Wt_test)\n"
   ]
  },
  {
   "cell_type": "markdown",
   "id": "cc4f6c44",
   "metadata": {},
   "source": [
    "## Define MVA parameters as a dictionary "
   ]
  },
  {
   "cell_type": "code",
   "execution_count": 6,
   "id": "e3561335",
   "metadata": {},
   "outputs": [],
   "source": [
    "import pickle\n",
    "import matplotlib.pyplot as plt\n",
    "import multiprocessing\n",
    "import seaborn as sns"
   ]
  },
  {
   "cell_type": "code",
   "execution_count": 7,
   "id": "b22f0c94",
   "metadata": {},
   "outputs": [],
   "source": [
    "MVA = {\"MVAtype\":\"XGB_1\", #Keyword to identify MVA method.\n",
    "     \"Color\":\"green\", #Plot color for MVA\n",
    "     \"Label\":\"XGB small list\", # label can be anything (this is how you will identify them on plot legends)\n",
    "     \"features\":['scEtaWidth','scR9','scSigmaIetaIeta','scSigmaIetaIphi','scEMaxRatio','scSwissCross','scE2x5_MaxRatio','scE2ndRatio','scPFChIso1','scPFChIso3','scPFChIso5'],\n",
    "     \"feature_bins\":[MyBins(0,0.1,0.001), MyBins(0,1,0.01), MyBins(0,0.1,0.001),MyBins(0,0.002,0.00001),MyBins(0,1,0.01),MyBins(0,1,0.01),MyBins(0,1,0.01),MyBins(0,1,0.01), \n",
    "                    MyBins(0,100,1),MyBins(0,100,1),MyBins(0,100,1)], #same length as features #Binning used only for plotting features (should be in the same order as features), \n",
    "     'Scaler':\"StandardScaler\", #Scaling for features before passing to the model training\n",
    "     'UseGPU':False, #If you have a GPU card, you can turn on this option (CUDA 10.0, Compute Capability 3.5 required)\n",
    "     \"XGBGridSearch\":{'colsample_bytree': [0.5,1.0], 'gamma': [0.5], 'max_depth': [5,3], 'min_child_weight': [5], 'subsample': [0.8]}\n",
    "      }\n",
    "\n",
    "#os.system(\"mkdir -p \" + Conf.OutputDirName+\"/\"+MVA[\"MVAtype\"])"
   ]
  },
  {
   "cell_type": "markdown",
   "id": "9c14b369",
   "metadata": {},
   "source": [
    "## Loading the test/train dataset :  CHECK IF THIS PROVIDES A DETERMINSTIC SET OF TEST/TRAIN"
   ]
  },
  {
   "cell_type": "code",
   "execution_count": 8,
   "id": "69521449",
   "metadata": {},
   "outputs": [
    {
     "name": "stdout",
     "output_type": "stream",
     "text": [
      "/eos/user/r/rchudasa/SWAN_projects/photonID-pp-Run2/makeInputTrees/workarea/ mc_signal_bsMMG_endcap.root genMatchedBMMGSCTree\n",
      "(scEt>4) & (scEt<15) & abs(scEta)>1.566 & abs(scEta) < 2.4 & (scFoundGsfMatch_ < 1)\n",
      "(62199, 26)\n",
      "/eos/user/r/rchudasa/SWAN_projects/photonID-pp-Run2/makeInputTrees/workarea/ mc_qcd20To30EmEnriched_endcap.root mergedPi0_SCTree\n",
      "(scEt>4) & (scEt<15) & abs(scEta)>1.566 & abs(scEta) < 2.4 & (scFoundGsfMatch_ < 1)\n",
      "(39661, 26)\n",
      "/eos/user/r/rchudasa/SWAN_projects/photonID-pp-Run2/makeInputTrees/workarea/ mc_bkg_flat_pi0_endcap.root mergedPi0_SCTree\n",
      "(scEt>4) & (scEt<15) & abs(scEta)>1.566 & abs(scEta)<2.4 & (scFoundGsfMatch_ < 1)\n",
      "(11474, 26)\n",
      "/eos/user/r/rchudasa/SWAN_projects/photonID-pp-Run2/makeInputTrees/workarea/ data_2018D_endcap.root dataAllSCTree\n",
      "(scEt>4) & (scEt<15) & abs(scEta)>1.566 & abs(scEta) < 2.4 & (scFoundGsfMatch_ < 1)\n",
      "(16983, 26)\n",
      "Execution time is 2.5934383869171143\n"
     ]
    }
   ],
   "source": [
    "dfs= []\n",
    "start = time.time()\n",
    "for process in Conf.processes:\n",
    "    path = Conf.baseInputPath\n",
    "    pr = process['Class']\n",
    "    cat = process['category']\n",
    "    fileName  = process['fileName']\n",
    "    treeName  = process['treeName']\n",
    "    selection = process['selection']\n",
    "    fraction  = process['fraction']\n",
    "    print(path,fileName,treeName)\n",
    "    dfs.append(delayed(get_pandasDataFrame(pr,cat,path,fileName,treeName,branches=Conf.branches,selection=selection,fraction=fraction)))\n",
    "end  = time.time()\n",
    "print(\"Execution time is\", end-start)"
   ]
  },
  {
   "cell_type": "code",
   "execution_count": 9,
   "id": "fe9b4419",
   "metadata": {},
   "outputs": [],
   "source": [
    "daskframe = dd.from_delayed(dfs)\n",
    "final_df = daskframe.compute()\n",
    "final_df.reset_index(inplace=True, drop=True)\n",
    "\n",
    "\n",
    "final_df[\"NewWt\"]=1\n",
    "final_df[\"xsecwt\"]=1\n",
    "\n",
    "Classes = ['Signal','Backg']\n",
    "index = final_df.index\n",
    "from sklearn.model_selection import train_test_split\n",
    "TrainIndices=[]\n",
    "TestIndices=[]\n",
    "for myclass in Classes:\n",
    "    condition = final_df[\"Class\"] == myclass\n",
    "    Indices = index[condition].values.tolist()\n",
    "    myclassTrainIndices, myclassTestIndices = train_test_split(Indices, test_size=0.25, random_state=42, shuffle=True)\n",
    "    TrainIndices=TrainIndices + myclassTrainIndices\n",
    "    TestIndices=TestIndices + myclassTestIndices\n",
    "\n",
    "final_df.loc[TrainIndices,'Dataset'] = \"Train\"\n",
    "final_df.loc[TestIndices,'Dataset'] = \"Test\"\n",
    "\n",
    "final_df.loc[TrainIndices,'TrainDataset'] = 1\n",
    "final_df.loc[TestIndices,'TrainDataset'] = 0"
   ]
  },
  {
   "cell_type": "code",
   "execution_count": 10,
   "id": "89216b5c",
   "metadata": {},
   "outputs": [],
   "source": [
    "X_train, Y_train, Wt_train, X_test, Y_test, Wt_test = PrepDataset(final_df,TrainIndices,TestIndices,MVA[\"features\"],cat='Category',weight=\"NewWt\")\n",
    "#exec(\"from sklearn.preprocessing import \"+MVA[\"Scaler\"])\n",
    "#exec(\"sc = \"+MVA[\"Scaler\"]+\"()\")\n",
    "#scale the training data input features so that it is between 0 and 1\n",
    "#X_train = sc.fit_transform(X_train) \n",
    "#X_test = sc.transform(X_test)\n",
    "# pickle.dump(sc, open(Conf.OutputDirName+\"/\"+MVA[\"MVAtype\"]+\"/\"+MVA[\"MVAtype\"]+\"_\"+\"_scaler.pkl\",'wb'))"
   ]
  },
  {
   "cell_type": "markdown",
   "id": "85415af3",
   "metadata": {},
   "source": [
    "## Load the trained Model"
   ]
  },
  {
   "cell_type": "code",
   "execution_count": 11,
   "id": "1b6ee88a",
   "metadata": {},
   "outputs": [],
   "source": [
    "import xgboost as xgb\n",
    "import pickle\n",
    "from sklearn.model_selection import cross_val_score, GridSearchCV"
   ]
  },
  {
   "cell_type": "code",
   "execution_count": 12,
   "id": "3c4ce6a1",
   "metadata": {},
   "outputs": [],
   "source": [
    "modelPath=Conf.OutputDirName+\"/\"+MVA[\"MVAtype\"]+\"/\"+MVA[\"MVAtype\"]+\"_\"+\"modelXGB.pkl\"\n",
    "scalerPath=Conf.OutputDirName+\"/\"+MVA[\"MVAtype\"]+\"/\"+MVA[\"MVAtype\"]+\"_\"+\"_scaler.pkl\"\n",
    "rslt=None\n",
    "scaler=None\n",
    "with open(modelPath, 'rb') as f:\n",
    "    rslt = pickle.load(f)\n",
    "with open(scalerPath, 'rb') as f:\n",
    "    scaler = pickle.load(f)\n",
    "    \n",
    "cv=rslt\n",
    "\n",
    "start = time.time()\n",
    "xgb_model = cv.best_estimator_\n"
   ]
  },
  {
   "cell_type": "code",
   "execution_count": 13,
   "id": "bbee284e",
   "metadata": {},
   "outputs": [],
   "source": [
    "X_train = scaler.transform(X_train) \n",
    "X_test = scaler.transform(X_test)"
   ]
  },
  {
   "cell_type": "code",
   "execution_count": 14,
   "id": "c53b55cc",
   "metadata": {},
   "outputs": [
    {
     "data": {
      "text/plain": [
       "Text(0.5, 1.0, 'XGB small list XGBoost Error')"
      ]
     },
     "execution_count": 14,
     "metadata": {},
     "output_type": "execute_result"
    },
    {
     "data": {
      "image/png": "[encoded data removed]",
      "text/plain": [
       "<Figure size 360x360 with 1 Axes>"
      ]
     },
     "metadata": {
      "needs_background": "light"
     },
     "output_type": "display_data"
    }
   ],
   "source": [
    "results = cv.best_estimator_.evals_result()\n",
    "epochs = len(results['validation_0']['error'])\n",
    "x_axis = range(0, epochs)\n",
    "fig, ax = plt.subplots(figsize=(5,5))\n",
    "        \n",
    "ax.plot(x_axis, results['validation_0']['error'], label='Train')\n",
    "ax.plot(x_axis, results['validation_1']['error'], label='Test')\n",
    "ax.legend()\n",
    "ax.set_ylabel('error')\n",
    "ax.set_xlabel('epochs')\n",
    "ax.set_title(MVA[\"Label\"]+' XGBoost Error')"
   ]
  },
  {
   "cell_type": "code",
   "execution_count": 15,
   "id": "0b480499",
   "metadata": {},
   "outputs": [],
   "source": [
    "from tensorflow.keras.utils import to_categorical\n",
    "y_test_pred=cv.predict_proba(X_test)\n",
    "y_train_pred=cv.predict_proba(X_train)\n",
    "\n",
    "Y_train_cat = to_categorical(Y_train, num_classes=2)\n",
    "Y_test_cat = to_categorical(Y_test, num_classes=2)\n",
    "\n",
    "final_df.loc[TrainIndices,MVA[\"MVAtype\"]+\"_pred\"]=cv.predict_proba(X_train)[:,0]\n",
    "final_df.loc[TestIndices,MVA[\"MVAtype\"]+\"_pred\"]=cv.predict_proba(X_test)[:,0]\n",
    "\n",
    "plotwt_train=np.asarray(final_df.loc[TrainIndices,'xsecwt'])\n",
    "plotwt_test=np.asarray(final_df.loc[TestIndices,'xsecwt'])"
   ]
  },
  {
   "cell_type": "code",
   "execution_count": 16,
   "id": "2afd62b9",
   "metadata": {},
   "outputs": [
    {
     "data": {
      "image/png": "[encoded data removed]",
      "text/plain": [
       "<Figure size 288x288 with 2 Axes>"
      ]
     },
     "metadata": {
      "needs_background": "light"
     },
     "output_type": "display_data"
    },
    {
     "data": {
      "image/png": "[encoded data removed]",
      "text/plain": [
       "<Figure size 288x288 with 2 Axes>"
      ]
     },
     "metadata": {
      "needs_background": "light"
     },
     "output_type": "display_data"
    }
   ],
   "source": [
    "import pandas as pd\n",
    "\n",
    "from sklearn.metrics import confusion_matrix\n",
    "fig, axes = plt.subplots(1, 1, figsize=(len(Classes)*2, len(Classes)*2))\n",
    "cm = confusion_matrix(Y_test_cat.argmax(axis=1), y_test_pred.argmax(axis=1))\n",
    "cm_df = pd.DataFrame(cm,index = Classes, columns = Classes)\n",
    "sns.heatmap(cm_df, annot=True,ax=axes)\n",
    "axes.set_yticklabels(axes.get_yticklabels(), va='center')\n",
    "axes.set_xticklabels(axes.get_yticklabels(), ha='center')\n",
    "axes.set_ylabel(\"True class\")\n",
    "axes.set_xlabel(\"Predicted class\")\n",
    "\n",
    "fig, axes = plt.subplots(1, 1, figsize=(len(Classes)*2, len(Classes)*2))\n",
    "cm = confusion_matrix(Y_train_cat.argmax(axis=1), y_train_pred.argmax(axis=1))\n",
    "cm_df = pd.DataFrame(cm,index = Classes,columns = Classes)\n",
    "sns.heatmap(cm_df, annot=True,ax=axes)\n",
    "axes.set_yticklabels(axes.get_yticklabels(), va='center')\n",
    "axes.set_xticklabels(axes.get_yticklabels(), ha='center')\n",
    "axes.set_ylabel(\"True class\")\n",
    "axes.set_xlabel(\"Predicted class\")\n",
    "fig.savefig(Conf.OutputDirName+\"/\"+MVA[\"MVAtype\"]+\"/\"+MVA[\"MVAtype\"]+\"_\"+\"CM_Training.png\") "
   ]
  },
  {
   "cell_type": "code",
   "execution_count": 17,
   "id": "5dfe8695",
   "metadata": {},
   "outputs": [],
   "source": [
    "ClassColors =['#377eb8', '#ff7f00']"
   ]
  },
  {
   "cell_type": "code",
   "execution_count": 18,
   "id": "5514d0ce",
   "metadata": {},
   "outputs": [
    {
     "data": {
      "image/png": "[encoded data removed]",
      "text/plain": [
       "<Figure size 720x360 with 2 Axes>"
      ]
     },
     "metadata": {
      "needs_background": "light"
     },
     "output_type": "display_data"
    },
    {
     "data": {
      "image/png": "[encoded data removed]",
      "text/plain": [
       "<Figure size 720x360 with 2 Axes>"
      ]
     },
     "metadata": {
      "needs_background": "light"
     },
     "output_type": "display_data"
    }
   ],
   "source": [
    "from sklearn.metrics import roc_curve, auc\n",
    "\n",
    "n_classes=len(Classes)\n",
    "fig, axes = plt.subplots(1, n_classes, figsize=(n_classes*5, 5))\n",
    "figMVA, axesMVA = plt.subplots(1, n_classes, figsize=(n_classes*5, 5))    \n",
    "for i in range(n_classes):\n",
    "    axMVA=axesMVA[i]\n",
    "    ax=axes[i]\n",
    "    for k in range(n_classes):\n",
    "        axMVA.hist(y_test_pred[:, i][Y_test_cat[:, k]==1],bins=np.linspace(0, 1, 21),label=Classes[k]+'_test',\n",
    "                   weights=plotwt_test[Y_test_cat[:, k]==1]/np.sum(plotwt_test[Y_test_cat[:, k]==1]),\n",
    "                   histtype='step',linewidth=2,color=ClassColors[k])\n",
    "        axMVA.hist(y_train_pred[:, i][Y_train_cat[:, k]==1],bins=np.linspace(0, 1, 21),label=Classes[k]+'_train',\n",
    "                   weights=plotwt_train[Y_train_cat[:, k]==1]/np.sum(plotwt_train[Y_train_cat[:, k]==1]),\n",
    "                   histtype='stepfilled',alpha=0.3,linewidth=2,color=ClassColors[k])\n",
    "        \n",
    "    axMVA.set_xlabel('Score',fontsize=10)\n",
    "        \n",
    "    axMVA.set_ylabel('Fraction of events',fontsize=10)\n",
    "    axMVA.legend(title=MVA[\"Label\"]+' Score ', loc=\"best\",fontsize=10)\n",
    "    axMVA.text(0, 1, \"CMS Preliminary\", horizontalalignment = 'left', verticalalignment = 'bottom', transform=axMVA.transAxes, fontsize = 12)#, fontweight = 'bold')\n",
    "        \n",
    "    axMVA.text(1, 1, \"13 TeV\", horizontalalignment = 'right', verticalalignment = 'bottom', transform = axMVA.transAxes, fontsize = 12)\n",
    "    #axMVA.set_yscale('log')\n",
    "            \n",
    "    fpr, tpr, th = roc_curve(Y_test_cat[:, i], y_test_pred[:, i],sample_weight=plotwt_test)\n",
    "    fpr_tr, tpr_tr, th_tr = roc_curve(Y_train_cat[:, i], y_train_pred[:, i],sample_weight=plotwt_train)\n",
    "    mask = tpr > 0.0\n",
    "    fpr, tpr = fpr[mask], tpr[mask]\n",
    "\n",
    "    mask = tpr_tr > 0.0\n",
    "    fpr_tr, tpr_tr = fpr_tr[mask], tpr_tr[mask]\n",
    "\n",
    "    roc_auc = auc(fpr, tpr)\n",
    "    roc_auc_tr = auc(fpr_tr, tpr_tr)\n",
    "            \n",
    "    ax.plot(tpr*100, fpr*100, label='ROC curve test (area = %0.2f)' % roc_auc,linewidth=1)\n",
    "    ax.plot(tpr_tr*100, fpr_tr*100, label='ROC curve train (area = %0.2f)' % roc_auc_tr,linewidth=1)\n",
    "    ax.text(0, 1, \"CMS Preliminary\", horizontalalignment = 'left', verticalalignment = 'bottom', transform=ax.transAxes, fontsize = 12)#, fontweight = 'bold')\n",
    "    ax.text(1, 1, \"13 TeV\", horizontalalignment = 'right', verticalalignment = 'bottom', transform = ax.transAxes, fontsize = 12)\n",
    "    ax.set_yscale(\"log\")\n",
    "    ax.set_xlabel(Classes[i]+' efficiency (%)',fontsize=10)\n",
    "    ax.set_ylabel('Efficiency for other classes (%)',fontsize=10)\n",
    "    ax.legend(loc=\"best\",fontsize=10)\n",
    "\n",
    "fig.savefig(Conf.OutputDirName+\"/\"+\"ROC_curve.pdf\")\n",
    "fig.savefig(Conf.OutputDirName+\"/\"+\"ROC_curve.png\")\n",
    "figMVA.savefig(Conf.OutputDirName+\"/\"+\"MVA_score.pdf\")\n",
    "figMVA.savefig(Conf.OutputDirName+\"/\"+\"MVA_score.png\")"
   ]
  },
  {
   "cell_type": "markdown",
   "id": "40405e86",
   "metadata": {},
   "source": [
    "## Load the Datsets separtely"
   ]
  },
  {
   "cell_type": "code",
   "execution_count": 22,
   "id": "a5c912f9",
   "metadata": {},
   "outputs": [],
   "source": [
    "baseBath='/eos/user/r/rchudasa/SWAN_projects/photonID-pp-Run2/makeInputTrees/workarea/'\n",
    "processesToLoad = [\n",
    "    {'Class':'Evaluation','fileName':'mc_signal_bsJpsiGamma_endcap.root', \n",
    "    'treeName':'genMatchedBMMGSCTree', 'selection':'(scEt>4) & (scEt<15) & abs(scEta)>1.566 & abs(scEta) < 2.4 & (scFoundGsfMatch_ < 1)', 'process':'bsMMG', 'category':0},\n",
    "    #{'Class':'Pi0','fileName':'mc_bkg_flat_pi0_barrel.root',\n",
    "    #'treeName':'mergedPi0_SCTree', 'selection':'(scEt>4) & (scEt<15) & abs(scEta)<1.4442', 'process':'Flat_pi0','category':1}, \n",
    "    {'Class':'QCD','fileName':'mc_qcd20To30EmEnriched_endcap.root',\n",
    "    'treeName':'mergedPi0_SCTree', 'selection':'(scEt>4) & (scEt<15) & abs(scEta)>1.566 & abs(scEta) < 2.4 & (scFoundGsfMatch_ < 1)', 'process':'QCD','category':1} \n",
    "]"
   ]
  },
  {
   "cell_type": "code",
   "execution_count": 23,
   "id": "dd1b15fd",
   "metadata": {},
   "outputs": [
    {
     "name": "stdout",
     "output_type": "stream",
     "text": [
      "/eos/user/r/rchudasa/SWAN_projects/photonID-pp-Run2/makeInputTrees/workarea/ mc_signal_bsJpsiGamma_endcap.root genMatchedBMMGSCTree\n",
      "(scEt>4) & (scEt<15) & abs(scEta)>1.566 & abs(scEta) < 2.4 & (scFoundGsfMatch_ < 1)\n",
      "(38288, 26)\n",
      "(38288, 26)\n",
      "/eos/user/r/rchudasa/SWAN_projects/photonID-pp-Run2/makeInputTrees/workarea/ mc_qcd20To30EmEnriched_endcap.root mergedPi0_SCTree\n",
      "(scEt>4) & (scEt<15) & abs(scEta)>1.566 & abs(scEta) < 2.4 & (scFoundGsfMatch_ < 1)\n",
      "(99152, 26)\n",
      "(99152, 26)\n",
      "Execution time is 2.817516803741455\n"
     ]
    }
   ],
   "source": [
    "dfs_p2= {}\n",
    "start = time.time()\n",
    "for process in processesToLoad:\n",
    "    path = baseBath\n",
    "    pr = process['Class']\n",
    "    cat = process['category']\n",
    "    fileName  = process['fileName']\n",
    "    treeName  = process['treeName']\n",
    "    selection = process['selection']\n",
    "    print(path,fileName,treeName)\n",
    "    dfs_p2[process['Class']]=delayed(get_pandasDataFrame(pr,cat,path,fileName,treeName,branches=Conf.branches,selection=selection,fraction=1)).compute()\n",
    "#     dfs_p2[process['Class']].reset_index(inplace=True, drop=True)\n",
    "    print(dfs_p2[process['Class']].shape)\n",
    "\n",
    "end  = time.time()\n",
    "print(\"Execution time is\", end-start)"
   ]
  },
  {
   "cell_type": "markdown",
   "id": "d8dc0efb",
   "metadata": {},
   "source": [
    "### Make the Tranformed datset ready to be fed to the model"
   ]
  },
  {
   "cell_type": "code",
   "execution_count": 24,
   "id": "b164e5ff",
   "metadata": {},
   "outputs": [],
   "source": [
    "dataset={}\n",
    "for process in dfs_p2:\n",
    "    _x=np.asarray(dfs_p2[process][MVA['features']])\n",
    "    dataset[process]={}\n",
    "    dataset[process]['X']=scaler.transform(_x)\n",
    "    "
   ]
  },
  {
   "cell_type": "code",
   "execution_count": 25,
   "id": "377139d9",
   "metadata": {},
   "outputs": [],
   "source": [
    "y_bs2JPsi_proba=xgb_model.predict_proba(dataset['Evaluation']['X'])"
   ]
  },
  {
   "cell_type": "markdown",
   "id": "ed2ae89c",
   "metadata": {},
   "source": [
    "#### Ploting the score for the Signal"
   ]
  },
  {
   "cell_type": "code",
   "execution_count": 26,
   "id": "21d08d85",
   "metadata": {},
   "outputs": [
    {
     "data": {
      "image/png": "[encoded data removed]",
      "text/plain": [
       "<Figure size 432x288 with 1 Axes>"
      ]
     },
     "metadata": {
      "needs_background": "light"
     },
     "output_type": "display_data"
    }
   ],
   "source": [
    "# 0 is for the signal class\n",
    "_=plt.hist(y_bs2JPsi_proba[:,0],bins=50)"
   ]
  },
  {
   "cell_type": "markdown",
   "id": "b4d6cca9",
   "metadata": {},
   "source": [
    "### Measuring the Accuracy"
   ]
  },
  {
   "cell_type": "code",
   "execution_count": 27,
   "id": "830ccd33",
   "metadata": {},
   "outputs": [
    {
     "name": "stdout",
     "output_type": "stream",
     "text": [
      "Accuracy :  0.8667467613873798\n"
     ]
    }
   ],
   "source": [
    "yPred=np.argmax(y_bs2JPsi_proba,axis=1)\n",
    "accuracy=sum(yPred==0)/len(yPred)\n",
    "print(\"Accuracy : \",accuracy)"
   ]
  },
  {
   "cell_type": "markdown",
   "id": "1d2c74f4",
   "metadata": {},
   "source": [
    "### Overtraining check"
   ]
  },
  {
   "cell_type": "markdown",
   "id": "239ab578",
   "metadata": {},
   "source": [
    "    To be done wrt.e train samples used for the Model derivation"
   ]
  },
  {
   "cell_type": "code",
   "execution_count": 28,
   "id": "1632130e",
   "metadata": {},
   "outputs": [],
   "source": [
    "# Getting the predictions for test/train sets | note this has to be done in the exact training set # to loaded exactly as in the training step"
   ]
  },
  {
   "cell_type": "code",
   "execution_count": 29,
   "id": "a75c4235",
   "metadata": {},
   "outputs": [],
   "source": [
    "yPredProba_test=xgb_model.predict_proba(X_test)\n",
    "yPredProba_train=xgb_model.predict_proba(X_train)"
   ]
  },
  {
   "cell_type": "code",
   "execution_count": 30,
   "id": "202681ed",
   "metadata": {},
   "outputs": [
    {
     "data": {
      "text/plain": [
       "array([[0.59876007, 0.40123993],\n",
       "       [0.94678056, 0.05321941],\n",
       "       [0.88614583, 0.11385418],\n",
       "       ...,\n",
       "       [0.01394624, 0.98605376],\n",
       "       [0.22200358, 0.7779964 ],\n",
       "       [0.16377163, 0.8362284 ]], dtype=float32)"
      ]
     },
     "execution_count": 30,
     "metadata": {},
     "output_type": "execute_result"
    }
   ],
   "source": [
    "yPredProba_train"
   ]
  },
  {
   "cell_type": "code",
   "execution_count": 31,
   "id": "d522ad74",
   "metadata": {},
   "outputs": [
    {
     "data": {
      "text/plain": [
       "array([0, 0, 0, ..., 1, 1, 1])"
      ]
     },
     "execution_count": 31,
     "metadata": {},
     "output_type": "execute_result"
    }
   ],
   "source": [
    "Y_test"
   ]
  },
  {
   "cell_type": "code",
   "execution_count": 32,
   "id": "474e8869",
   "metadata": {},
   "outputs": [
    {
     "data": {
      "text/plain": [
       "<matplotlib.legend.Legend at 0x7fb69d4daf40>"
      ]
     },
     "execution_count": 32,
     "metadata": {},
     "output_type": "execute_result"
    },
    {
     "data": {
      "image/png": "[encoded data removed]",
      "text/plain": [
       "<Figure size 432x288 with 1 Axes>"
      ]
     },
     "metadata": {
      "needs_background": "light"
     },
     "output_type": "display_data"
    }
   ],
   "source": [
    "cId=0\n",
    "classMask_test= Y_test==cId\n",
    "classMask_train= Y_train==cId\n",
    "\n",
    "_=plt.hist(yPredProba_test[classMask_test][:,cId]  ,label='test' ,histtype='step',density=True)\n",
    "_=plt.hist(yPredProba_train[classMask_train][:,cId],label='train',histtype='step',density=True)\n",
    "\n",
    "#_=plt.hist(yPredProba_test[:,cId]  ,label='test' ,histtype='step',density=True)\n",
    "#_=plt.hist(yPredProba_train[:,cId],label='train',histtype='step',density=True)\n",
    "plt.legend()"
   ]
  },
  {
   "cell_type": "code",
   "execution_count": 33,
   "id": "c138f909",
   "metadata": {},
   "outputs": [
    {
     "data": {
      "text/plain": [
       "<matplotlib.legend.Legend at 0x7fb69d4496a0>"
      ]
     },
     "execution_count": 33,
     "metadata": {},
     "output_type": "execute_result"
    },
    {
     "data": {
      "image/png": "[encoded data removed]",
      "text/plain": [
       "<Figure size 432x288 with 1 Axes>"
      ]
     },
     "metadata": {
      "needs_background": "light"
     },
     "output_type": "display_data"
    }
   ],
   "source": [
    "cId=1\n",
    "classMask_test= Y_test==cId\n",
    "classMask_train= Y_train==cId\n",
    "\n",
    "_=plt.hist(yPredProba_test[classMask_test][:,cId]  ,label='test' ,histtype='step',density=True)\n",
    "_=plt.hist(yPredProba_train[classMask_train][:,cId],label='train',histtype='step',density=True)\n",
    "\n",
    "#_=plt.hist(yPredProba_test[:,cId]  ,label='test' ,histtype='step',density=True)\n",
    "#_=plt.hist(yPredProba_train[:,cId],label='train',histtype='step',density=True)\n",
    "plt.legend()"
   ]
  },
  {
   "cell_type": "markdown",
   "id": "6c148aea",
   "metadata": {},
   "source": [
    "## Advanced exercise "
   ]
  },
  {
   "cell_type": "code",
   "execution_count": 34,
   "id": "6a3c661f",
   "metadata": {},
   "outputs": [],
   "source": [
    "import math\n",
    "from uncertainties import ufloat\n",
    "from uncertainties.umath import *"
   ]
  },
  {
   "cell_type": "code",
   "execution_count": 48,
   "id": "70ab5358",
   "metadata": {},
   "outputs": [],
   "source": [
    "def eff(group_df,var,cat,catvalue):\n",
    "    signalpass=len(group_df.query('('+var+' == 1) & ('+cat+' == '+str(catvalue)+')'))\n",
    "    signalpass=ufloat(signalpass,math.sqrt(signalpass))\n",
    "    signaltotal=len(group_df.query('('+cat+' == '+str(catvalue)+')'))\n",
    "    signaltoal=ufloat(signaltotal,math.sqrt(signaltotal))\n",
    "    if signaltotal>0:\n",
    "        signaleff=(100*signalpass)/(signaltotal)\n",
    "        return [signaleff.n, signaleff.s]\n",
    "    else:\n",
    "        print(\"Some bins have zero signal: assigning zero eff\")\n",
    "        return [0, 0]\n",
    "\n",
    "def EffTrend(cat='',var='',groupbyvar='',ptbins=[],label='',title='',plotname='',df=pd.DataFrame(),plot_dir='',Classes=[''],Colors=['']):\n",
    "    figMVAComp, axesComp = plt.subplots(1,1, figsize=(4, 4))\n",
    "    ax=axesComp\n",
    "    fulllist=[[] for i in range(len(Classes))]\n",
    "    fullliste=[[[] for i in range(2)] for i in range(len(Classes))]\n",
    "    #ptbinsmy=ptbins[:-1]\n",
    "    ptbinsmy=[(ptbins[m+1]+ptbins[m])/2 for m in range(len(ptbins)-1)]\n",
    "    if groupbyvar=='ele_pt_bin':\n",
    "        ptbinsmy[len(ptbinsmy)-1]=ptbins[len(ptbins)-2]*1.2\n",
    "    #ptbinsmy.append(ptbins[len(ptbins)-1]*1.2)\n",
    "    xefulllist=[(ptbins[m+1]-ptbins[m])/2 for m in range(len(ptbins)-1)]\n",
    "    if groupbyvar=='ele_pt_bin':\n",
    "        xefulllist[len(ptbinsmy)-1]=ptbins[len(ptbins)-2]*0.2\n",
    "    for i,group_df in df.groupby(groupbyvar):\n",
    "        for k in range(len(Classes)):\n",
    "            val=eff(group_df,var,cat,k)[0]\n",
    "            vale=eff(group_df,var,cat,k)[1]\n",
    "            fulllist[k].append(val)\n",
    "            fullliste[k][0].append(vale)\n",
    "            if val+vale<100:\n",
    "                fullliste[k][1].append(vale)\n",
    "            else:\n",
    "                fullliste[k][1].append(100-val)\n",
    "                \n",
    "        \n",
    "    for m in range(len(Classes)):\n",
    "        if len(Classes)>2:\n",
    "            if m==0 or m==1:\n",
    "                marker='S'\n",
    "            else:\n",
    "                marker='B'\n",
    "        if len(Classes)<3:\n",
    "            if m==1:\n",
    "                marker='S'\n",
    "            else:\n",
    "                marker='B'\n",
    "        ax.errorbar(ptbinsmy,fulllist[m],xerr=xefulllist,yerr=fullliste[m],markersize=6,markeredgecolor='black',label=Classes[m],color=Colors[m],fmt = '.')\n",
    "    ax.set_ylim(0,130)\n",
    "    if groupbyvar=='ele_pt_bin':\n",
    "        #ax.set_yscale('log')\n",
    "        ax.set_xlim(ptbins[0],ptbins[len(ptbins)-2]*1.4)\n",
    "        ax.text(7.5,42,title)\n",
    "    if groupbyvar=='ele_eta_bin':\n",
    "        ax.text(-1.5,42,title)\n",
    "        #ax.set_xlim(ptbins[0]*1.2,ptbins[len(ptbins)-1])\n",
    "    ax.set_xlabel(label)\n",
    "    ax.set_ylabel(\"Efficiency (%)\")\n",
    "    ax.text(0, 1, \"CMS Preliminary\", horizontalalignment = 'left', verticalalignment = 'bottom', transform=ax.transAxes, fontsize = 12)#, fontweight = 'bold')\n",
    "    ax.text(1, 1, \"13 TeV\", horizontalalignment = 'right', verticalalignment = 'bottom', transform = ax.transAxes, fontsize = 12)\n",
    "    \n",
    "    ax.grid(True)\n",
    "    #ax.legend(loc='best',ncol=2,bbox_to_anchor=(0., 1.1, 1., 0.2),fontsize=8)\n",
    "    ax.legend(loc='best',ncol=2,fontsize=10)\n",
    "    print(plot_dir, plotname)\n",
    "    figMVAComp.savefig(plot_dir+plotname+\".pdf\")\n",
    "    figMVAComp.savefig(plot_dir+plotname+\".png\")"
   ]
  },
  {
   "cell_type": "markdown",
   "id": "db1024c5",
   "metadata": {},
   "source": [
    "## Efficiency studies at 80% and 90% working points"
   ]
  },
  {
   "cell_type": "code",
   "execution_count": 36,
   "id": "0763974d",
   "metadata": {},
   "outputs": [],
   "source": [
    "SigEffWPsi=[\"80%\", \"90%\"]\n",
    "MVAs=[MVA]\n",
    "#ptbins = [4,4.5,5,5.5,6,6.5,7,7.5,8,8.5,9,9.5,10,12,15]\n",
    "#etabins = [-2.4,-2.2,-2.0,-1.8,-1.566,1.566,1.8,2.0,2.2,2.4]\n",
    "#etabins = [-1.4442,-1.1,-0.8,-0.5,0,0.5,0.8,1.1,1.4442]\n",
    "ptbins = Conf.ptbins\n",
    "etabins = Conf.etabins\n",
    "ptwtvar='scEt'\n",
    "etawtvar='scEta'"
   ]
  },
  {
   "cell_type": "code",
   "execution_count": 37,
   "id": "db1ce52e",
   "metadata": {},
   "outputs": [],
   "source": [
    "cat='Category'"
   ]
  },
  {
   "cell_type": "markdown",
   "id": "ae1f36cc",
   "metadata": {},
   "source": [
    "## Efficiency with J/psi and pi0"
   ]
  },
  {
   "cell_type": "code",
   "execution_count": 38,
   "id": "240f80a6",
   "metadata": {},
   "outputs": [
    {
     "data": {
      "text/html": [
       "<div>\n",
       "<style scoped>\n",
       "    .dataframe tbody tr th:only-of-type {\n",
       "        vertical-align: middle;\n",
       "    }\n",
       "\n",
       "    .dataframe tbody tr th {\n",
       "        vertical-align: top;\n",
       "    }\n",
       "\n",
       "    .dataframe thead th {\n",
       "        text-align: right;\n",
       "    }\n",
       "</style>\n",
       "<table border=\"1\" class=\"dataframe\">\n",
       "  <thead>\n",
       "    <tr style=\"text-align: right;\">\n",
       "      <th></th>\n",
       "      <th>scE</th>\n",
       "      <th>scEt</th>\n",
       "      <th>scEta</th>\n",
       "      <th>scPhi</th>\n",
       "      <th>scEtaWidth</th>\n",
       "      <th>scMinDrWithGsfElectornSC_</th>\n",
       "      <th>scFoundGsfMatch_</th>\n",
       "      <th>scR9</th>\n",
       "      <th>scSigmaIetaIeta</th>\n",
       "      <th>scSigmaIetaIphi</th>\n",
       "      <th>scEMaxRatio</th>\n",
       "      <th>scSwissCross</th>\n",
       "      <th>scE2x5_MaxRatio</th>\n",
       "      <th>scE2ndRatio</th>\n",
       "      <th>scPFPhoIso1</th>\n",
       "      <th>scPFPhoIso2</th>\n",
       "      <th>scPFPhoIso3</th>\n",
       "      <th>scPFPhoIso4</th>\n",
       "      <th>scPFPhoIso5</th>\n",
       "      <th>scPFChIso1</th>\n",
       "      <th>scPFChIso2</th>\n",
       "      <th>scPFChIso3</th>\n",
       "      <th>scPFChIso4</th>\n",
       "      <th>scPFChIso5</th>\n",
       "      <th>Class</th>\n",
       "      <th>Category</th>\n",
       "    </tr>\n",
       "    <tr>\n",
       "      <th>entry</th>\n",
       "      <th></th>\n",
       "      <th></th>\n",
       "      <th></th>\n",
       "      <th></th>\n",
       "      <th></th>\n",
       "      <th></th>\n",
       "      <th></th>\n",
       "      <th></th>\n",
       "      <th></th>\n",
       "      <th></th>\n",
       "      <th></th>\n",
       "      <th></th>\n",
       "      <th></th>\n",
       "      <th></th>\n",
       "      <th></th>\n",
       "      <th></th>\n",
       "      <th></th>\n",
       "      <th></th>\n",
       "      <th></th>\n",
       "      <th></th>\n",
       "      <th></th>\n",
       "      <th></th>\n",
       "      <th></th>\n",
       "      <th></th>\n",
       "      <th></th>\n",
       "      <th></th>\n",
       "    </tr>\n",
       "  </thead>\n",
       "  <tbody>\n",
       "    <tr>\n",
       "      <th>34854</th>\n",
       "      <td>37.366203</td>\n",
       "      <td>10.450381</td>\n",
       "      <td>1.947121</td>\n",
       "      <td>-3.138127</td>\n",
       "      <td>0.009618</td>\n",
       "      <td>1.453583e+00</td>\n",
       "      <td>0.0</td>\n",
       "      <td>1.000000</td>\n",
       "      <td>0.025041</td>\n",
       "      <td>-0.000342</td>\n",
       "      <td>0.622697</td>\n",
       "      <td>0.554190</td>\n",
       "      <td>0.972679</td>\n",
       "      <td>0.277605</td>\n",
       "      <td>0.000000</td>\n",
       "      <td>0.000000</td>\n",
       "      <td>0.814089</td>\n",
       "      <td>0.814089</td>\n",
       "      <td>0.814089</td>\n",
       "      <td>0.466985</td>\n",
       "      <td>1.106986</td>\n",
       "      <td>2.162413</td>\n",
       "      <td>4.379533</td>\n",
       "      <td>5.386450</td>\n",
       "      <td>Evaluation</td>\n",
       "      <td>0</td>\n",
       "    </tr>\n",
       "    <tr>\n",
       "      <th>46956</th>\n",
       "      <td>29.173870</td>\n",
       "      <td>7.249315</td>\n",
       "      <td>-2.069707</td>\n",
       "      <td>1.070905</td>\n",
       "      <td>0.007078</td>\n",
       "      <td>1.773781e+00</td>\n",
       "      <td>0.0</td>\n",
       "      <td>1.000000</td>\n",
       "      <td>0.018078</td>\n",
       "      <td>-0.000317</td>\n",
       "      <td>0.901026</td>\n",
       "      <td>0.890154</td>\n",
       "      <td>1.000000</td>\n",
       "      <td>0.058708</td>\n",
       "      <td>0.000000</td>\n",
       "      <td>4.344039</td>\n",
       "      <td>4.344039</td>\n",
       "      <td>4.344039</td>\n",
       "      <td>4.865208</td>\n",
       "      <td>0.979063</td>\n",
       "      <td>2.321280</td>\n",
       "      <td>21.420506</td>\n",
       "      <td>26.243139</td>\n",
       "      <td>29.612261</td>\n",
       "      <td>Evaluation</td>\n",
       "      <td>0</td>\n",
       "    </tr>\n",
       "    <tr>\n",
       "      <th>21699</th>\n",
       "      <td>15.977325</td>\n",
       "      <td>5.812587</td>\n",
       "      <td>1.669429</td>\n",
       "      <td>-1.859210</td>\n",
       "      <td>0.008904</td>\n",
       "      <td>1.000000e+09</td>\n",
       "      <td>0.0</td>\n",
       "      <td>1.000000</td>\n",
       "      <td>0.028717</td>\n",
       "      <td>-0.000043</td>\n",
       "      <td>0.635965</td>\n",
       "      <td>0.646982</td>\n",
       "      <td>1.000000</td>\n",
       "      <td>0.179459</td>\n",
       "      <td>0.000000</td>\n",
       "      <td>0.182913</td>\n",
       "      <td>1.813312</td>\n",
       "      <td>3.893418</td>\n",
       "      <td>6.294569</td>\n",
       "      <td>1.947264</td>\n",
       "      <td>3.410346</td>\n",
       "      <td>11.843365</td>\n",
       "      <td>20.535040</td>\n",
       "      <td>31.442869</td>\n",
       "      <td>Evaluation</td>\n",
       "      <td>0</td>\n",
       "    </tr>\n",
       "    <tr>\n",
       "      <th>34573</th>\n",
       "      <td>21.983360</td>\n",
       "      <td>6.376213</td>\n",
       "      <td>-1.909131</td>\n",
       "      <td>-1.042157</td>\n",
       "      <td>0.014797</td>\n",
       "      <td>1.012126e+00</td>\n",
       "      <td>0.0</td>\n",
       "      <td>0.694323</td>\n",
       "      <td>0.010426</td>\n",
       "      <td>-0.000091</td>\n",
       "      <td>0.630422</td>\n",
       "      <td>0.413761</td>\n",
       "      <td>1.000000</td>\n",
       "      <td>0.369578</td>\n",
       "      <td>2.303114</td>\n",
       "      <td>2.303114</td>\n",
       "      <td>2.629628</td>\n",
       "      <td>2.629628</td>\n",
       "      <td>3.890332</td>\n",
       "      <td>0.247822</td>\n",
       "      <td>2.677557</td>\n",
       "      <td>15.233804</td>\n",
       "      <td>24.622879</td>\n",
       "      <td>32.891399</td>\n",
       "      <td>Evaluation</td>\n",
       "      <td>0</td>\n",
       "    </tr>\n",
       "    <tr>\n",
       "      <th>26022</th>\n",
       "      <td>16.383741</td>\n",
       "      <td>4.909886</td>\n",
       "      <td>-1.874938</td>\n",
       "      <td>1.028597</td>\n",
       "      <td>0.011013</td>\n",
       "      <td>1.000000e+09</td>\n",
       "      <td>0.0</td>\n",
       "      <td>1.000000</td>\n",
       "      <td>0.019905</td>\n",
       "      <td>-0.000164</td>\n",
       "      <td>0.722234</td>\n",
       "      <td>0.615408</td>\n",
       "      <td>1.000000</td>\n",
       "      <td>0.277766</td>\n",
       "      <td>0.230648</td>\n",
       "      <td>0.668731</td>\n",
       "      <td>0.668731</td>\n",
       "      <td>0.668731</td>\n",
       "      <td>0.668731</td>\n",
       "      <td>0.000000</td>\n",
       "      <td>1.946534</td>\n",
       "      <td>4.294925</td>\n",
       "      <td>5.632472</td>\n",
       "      <td>9.263081</td>\n",
       "      <td>Evaluation</td>\n",
       "      <td>0</td>\n",
       "    </tr>\n",
       "  </tbody>\n",
       "</table>\n",
       "</div>"
      ],
      "text/plain": [
       "             scE       scEt     scEta     scPhi  scEtaWidth  \\\n",
       "entry                                                         \n",
       "34854  37.366203  10.450381  1.947121 -3.138127    0.009618   \n",
       "46956  29.173870   7.249315 -2.069707  1.070905    0.007078   \n",
       "21699  15.977325   5.812587  1.669429 -1.859210    0.008904   \n",
       "34573  21.983360   6.376213 -1.909131 -1.042157    0.014797   \n",
       "26022  16.383741   4.909886 -1.874938  1.028597    0.011013   \n",
       "\n",
       "       scMinDrWithGsfElectornSC_  scFoundGsfMatch_      scR9  scSigmaIetaIeta  \\\n",
       "entry                                                                           \n",
       "34854               1.453583e+00               0.0  1.000000         0.025041   \n",
       "46956               1.773781e+00               0.0  1.000000         0.018078   \n",
       "21699               1.000000e+09               0.0  1.000000         0.028717   \n",
       "34573               1.012126e+00               0.0  0.694323         0.010426   \n",
       "26022               1.000000e+09               0.0  1.000000         0.019905   \n",
       "\n",
       "       scSigmaIetaIphi  scEMaxRatio  scSwissCross  scE2x5_MaxRatio  \\\n",
       "entry                                                                \n",
       "34854        -0.000342     0.622697      0.554190         0.972679   \n",
       "46956        -0.000317     0.901026      0.890154         1.000000   \n",
       "21699        -0.000043     0.635965      0.646982         1.000000   \n",
       "34573        -0.000091     0.630422      0.413761         1.000000   \n",
       "26022        -0.000164     0.722234      0.615408         1.000000   \n",
       "\n",
       "       scE2ndRatio  scPFPhoIso1  scPFPhoIso2  scPFPhoIso3  scPFPhoIso4  \\\n",
       "entry                                                                    \n",
       "34854     0.277605     0.000000     0.000000     0.814089     0.814089   \n",
       "46956     0.058708     0.000000     4.344039     4.344039     4.344039   \n",
       "21699     0.179459     0.000000     0.182913     1.813312     3.893418   \n",
       "34573     0.369578     2.303114     2.303114     2.629628     2.629628   \n",
       "26022     0.277766     0.230648     0.668731     0.668731     0.668731   \n",
       "\n",
       "       scPFPhoIso5  scPFChIso1  scPFChIso2  scPFChIso3  scPFChIso4  \\\n",
       "entry                                                                \n",
       "34854     0.814089    0.466985    1.106986    2.162413    4.379533   \n",
       "46956     4.865208    0.979063    2.321280   21.420506   26.243139   \n",
       "21699     6.294569    1.947264    3.410346   11.843365   20.535040   \n",
       "34573     3.890332    0.247822    2.677557   15.233804   24.622879   \n",
       "26022     0.668731    0.000000    1.946534    4.294925    5.632472   \n",
       "\n",
       "       scPFChIso5       Class  Category  \n",
       "entry                                    \n",
       "34854    5.386450  Evaluation         0  \n",
       "46956   29.612261  Evaluation         0  \n",
       "21699   31.442869  Evaluation         0  \n",
       "34573   32.891399  Evaluation         0  \n",
       "26022    9.263081  Evaluation         0  "
      ]
     },
     "execution_count": 38,
     "metadata": {},
     "output_type": "execute_result"
    }
   ],
   "source": [
    "dfs_p2['Evaluation'].head()"
   ]
  },
  {
   "cell_type": "code",
   "execution_count": 39,
   "id": "c878b96d",
   "metadata": {},
   "outputs": [],
   "source": [
    "dfs_p2['Evaluation'][MVA[\"MVAtype\"]+\"_pred\"]=xgb_model.predict_proba(dataset['Evaluation']['X'])[:,0]\n",
    "dfs_p2['QCD'][MVA[\"MVAtype\"]+\"_pred\"]=xgb_model.predict_proba(dataset['QCD']['X'])[:,0]"
   ]
  },
  {
   "cell_type": "code",
   "execution_count": 40,
   "id": "0c6f40f0",
   "metadata": {},
   "outputs": [],
   "source": [
    "y_eff_df_pred_Jpsi=cv.predict_proba(dataset['Evaluation']['X'])\n",
    "y_eff_df_pred_QCD=cv.predict_proba(dataset['QCD']['X'])"
   ]
  },
  {
   "cell_type": "code",
   "execution_count": 41,
   "id": "1383bcc2",
   "metadata": {},
   "outputs": [],
   "source": [
    "y_eff_df_pred=np.concatenate([y_eff_df_pred_Jpsi,y_eff_df_pred_QCD],axis=0)"
   ]
  },
  {
   "cell_type": "code",
   "execution_count": 42,
   "id": "c3e3695e",
   "metadata": {},
   "outputs": [
    {
     "data": {
      "text/plain": [
       "(137440, 2)"
      ]
     },
     "execution_count": 42,
     "metadata": {},
     "output_type": "execute_result"
    }
   ],
   "source": [
    "y_eff_df_pred.shape"
   ]
  },
  {
   "cell_type": "code",
   "execution_count": 43,
   "id": "f34a6621",
   "metadata": {},
   "outputs": [],
   "source": [
    "eff_df = pd.concat([dfs_p2['Evaluation'],dfs_p2['QCD']])"
   ]
  },
  {
   "cell_type": "code",
   "execution_count": 44,
   "id": "2e75862d",
   "metadata": {},
   "outputs": [
    {
     "data": {
      "text/html": [
       "<div>\n",
       "<style scoped>\n",
       "    .dataframe tbody tr th:only-of-type {\n",
       "        vertical-align: middle;\n",
       "    }\n",
       "\n",
       "    .dataframe tbody tr th {\n",
       "        vertical-align: top;\n",
       "    }\n",
       "\n",
       "    .dataframe thead th {\n",
       "        text-align: right;\n",
       "    }\n",
       "</style>\n",
       "<table border=\"1\" class=\"dataframe\">\n",
       "  <thead>\n",
       "    <tr style=\"text-align: right;\">\n",
       "      <th></th>\n",
       "      <th>scE</th>\n",
       "      <th>scEt</th>\n",
       "      <th>scEta</th>\n",
       "      <th>scPhi</th>\n",
       "      <th>scEtaWidth</th>\n",
       "      <th>scMinDrWithGsfElectornSC_</th>\n",
       "      <th>scFoundGsfMatch_</th>\n",
       "      <th>scR9</th>\n",
       "      <th>scSigmaIetaIeta</th>\n",
       "      <th>scSigmaIetaIphi</th>\n",
       "      <th>scEMaxRatio</th>\n",
       "      <th>scSwissCross</th>\n",
       "      <th>scE2x5_MaxRatio</th>\n",
       "      <th>scE2ndRatio</th>\n",
       "      <th>scPFPhoIso1</th>\n",
       "      <th>scPFPhoIso2</th>\n",
       "      <th>scPFPhoIso3</th>\n",
       "      <th>scPFPhoIso4</th>\n",
       "      <th>scPFPhoIso5</th>\n",
       "      <th>scPFChIso1</th>\n",
       "      <th>scPFChIso2</th>\n",
       "      <th>scPFChIso3</th>\n",
       "      <th>scPFChIso4</th>\n",
       "      <th>scPFChIso5</th>\n",
       "      <th>Class</th>\n",
       "      <th>Category</th>\n",
       "      <th>XGB_1_pred</th>\n",
       "    </tr>\n",
       "    <tr>\n",
       "      <th>entry</th>\n",
       "      <th></th>\n",
       "      <th></th>\n",
       "      <th></th>\n",
       "      <th></th>\n",
       "      <th></th>\n",
       "      <th></th>\n",
       "      <th></th>\n",
       "      <th></th>\n",
       "      <th></th>\n",
       "      <th></th>\n",
       "      <th></th>\n",
       "      <th></th>\n",
       "      <th></th>\n",
       "      <th></th>\n",
       "      <th></th>\n",
       "      <th></th>\n",
       "      <th></th>\n",
       "      <th></th>\n",
       "      <th></th>\n",
       "      <th></th>\n",
       "      <th></th>\n",
       "      <th></th>\n",
       "      <th></th>\n",
       "      <th></th>\n",
       "      <th></th>\n",
       "      <th></th>\n",
       "      <th></th>\n",
       "    </tr>\n",
       "  </thead>\n",
       "  <tbody>\n",
       "    <tr>\n",
       "      <th>194132</th>\n",
       "      <td>75.603828</td>\n",
       "      <td>14.400265</td>\n",
       "      <td>-2.342212</td>\n",
       "      <td>2.603491</td>\n",
       "      <td>0.020941</td>\n",
       "      <td>1.000000e+09</td>\n",
       "      <td>0.0</td>\n",
       "      <td>0.966533</td>\n",
       "      <td>0.026064</td>\n",
       "      <td>-0.000190</td>\n",
       "      <td>0.534104</td>\n",
       "      <td>0.447623</td>\n",
       "      <td>0.986228</td>\n",
       "      <td>0.132876</td>\n",
       "      <td>11.403557</td>\n",
       "      <td>11.403557</td>\n",
       "      <td>11.403557</td>\n",
       "      <td>12.117167</td>\n",
       "      <td>12.397338</td>\n",
       "      <td>0.000000</td>\n",
       "      <td>12.553329</td>\n",
       "      <td>16.347647</td>\n",
       "      <td>20.069721</td>\n",
       "      <td>25.244577</td>\n",
       "      <td>QCD</td>\n",
       "      <td>1</td>\n",
       "      <td>0.144266</td>\n",
       "    </tr>\n",
       "    <tr>\n",
       "      <th>173325</th>\n",
       "      <td>44.248783</td>\n",
       "      <td>12.853000</td>\n",
       "      <td>-1.907604</td>\n",
       "      <td>0.413182</td>\n",
       "      <td>0.032651</td>\n",
       "      <td>7.664898e-02</td>\n",
       "      <td>0.0</td>\n",
       "      <td>0.620343</td>\n",
       "      <td>0.033230</td>\n",
       "      <td>0.000202</td>\n",
       "      <td>0.352856</td>\n",
       "      <td>0.351689</td>\n",
       "      <td>0.738545</td>\n",
       "      <td>0.174199</td>\n",
       "      <td>8.812951</td>\n",
       "      <td>8.812951</td>\n",
       "      <td>8.812951</td>\n",
       "      <td>8.812951</td>\n",
       "      <td>8.993004</td>\n",
       "      <td>16.842054</td>\n",
       "      <td>20.360682</td>\n",
       "      <td>35.479122</td>\n",
       "      <td>46.677807</td>\n",
       "      <td>57.642776</td>\n",
       "      <td>QCD</td>\n",
       "      <td>1</td>\n",
       "      <td>0.006083</td>\n",
       "    </tr>\n",
       "    <tr>\n",
       "      <th>149839</th>\n",
       "      <td>36.990292</td>\n",
       "      <td>11.280429</td>\n",
       "      <td>-1.856628</td>\n",
       "      <td>3.063077</td>\n",
       "      <td>0.022663</td>\n",
       "      <td>1.166934e-01</td>\n",
       "      <td>0.0</td>\n",
       "      <td>0.673936</td>\n",
       "      <td>0.035708</td>\n",
       "      <td>-0.000392</td>\n",
       "      <td>0.450455</td>\n",
       "      <td>0.269770</td>\n",
       "      <td>0.914227</td>\n",
       "      <td>0.197782</td>\n",
       "      <td>0.344081</td>\n",
       "      <td>1.411565</td>\n",
       "      <td>3.726917</td>\n",
       "      <td>4.068542</td>\n",
       "      <td>5.101986</td>\n",
       "      <td>3.856318</td>\n",
       "      <td>11.780025</td>\n",
       "      <td>12.454387</td>\n",
       "      <td>15.956965</td>\n",
       "      <td>23.167852</td>\n",
       "      <td>QCD</td>\n",
       "      <td>1</td>\n",
       "      <td>0.086716</td>\n",
       "    </tr>\n",
       "    <tr>\n",
       "      <th>197265</th>\n",
       "      <td>76.071838</td>\n",
       "      <td>14.825642</td>\n",
       "      <td>-2.318833</td>\n",
       "      <td>-1.179989</td>\n",
       "      <td>0.024627</td>\n",
       "      <td>3.511053e+00</td>\n",
       "      <td>0.0</td>\n",
       "      <td>0.842997</td>\n",
       "      <td>0.025524</td>\n",
       "      <td>-0.000024</td>\n",
       "      <td>0.229337</td>\n",
       "      <td>-0.371802</td>\n",
       "      <td>0.789343</td>\n",
       "      <td>0.210085</td>\n",
       "      <td>0.000000</td>\n",
       "      <td>1.066984</td>\n",
       "      <td>1.066984</td>\n",
       "      <td>1.066984</td>\n",
       "      <td>1.066984</td>\n",
       "      <td>20.383801</td>\n",
       "      <td>28.523863</td>\n",
       "      <td>28.998936</td>\n",
       "      <td>31.362289</td>\n",
       "      <td>34.842434</td>\n",
       "      <td>QCD</td>\n",
       "      <td>1</td>\n",
       "      <td>0.005627</td>\n",
       "    </tr>\n",
       "    <tr>\n",
       "      <th>77077</th>\n",
       "      <td>53.466244</td>\n",
       "      <td>14.399372</td>\n",
       "      <td>-1.986366</td>\n",
       "      <td>-0.696847</td>\n",
       "      <td>0.019827</td>\n",
       "      <td>1.000000e+09</td>\n",
       "      <td>0.0</td>\n",
       "      <td>0.560579</td>\n",
       "      <td>0.022879</td>\n",
       "      <td>0.000213</td>\n",
       "      <td>0.474398</td>\n",
       "      <td>0.128139</td>\n",
       "      <td>0.997886</td>\n",
       "      <td>0.314925</td>\n",
       "      <td>8.321395</td>\n",
       "      <td>8.321395</td>\n",
       "      <td>8.624738</td>\n",
       "      <td>8.624738</td>\n",
       "      <td>9.239630</td>\n",
       "      <td>8.663137</td>\n",
       "      <td>14.669971</td>\n",
       "      <td>16.263273</td>\n",
       "      <td>20.700422</td>\n",
       "      <td>23.209164</td>\n",
       "      <td>QCD</td>\n",
       "      <td>1</td>\n",
       "      <td>0.052017</td>\n",
       "    </tr>\n",
       "  </tbody>\n",
       "</table>\n",
       "</div>"
      ],
      "text/plain": [
       "              scE       scEt     scEta     scPhi  scEtaWidth  \\\n",
       "entry                                                          \n",
       "194132  75.603828  14.400265 -2.342212  2.603491    0.020941   \n",
       "173325  44.248783  12.853000 -1.907604  0.413182    0.032651   \n",
       "149839  36.990292  11.280429 -1.856628  3.063077    0.022663   \n",
       "197265  76.071838  14.825642 -2.318833 -1.179989    0.024627   \n",
       "77077   53.466244  14.399372 -1.986366 -0.696847    0.019827   \n",
       "\n",
       "        scMinDrWithGsfElectornSC_  scFoundGsfMatch_      scR9  \\\n",
       "entry                                                           \n",
       "194132               1.000000e+09               0.0  0.966533   \n",
       "173325               7.664898e-02               0.0  0.620343   \n",
       "149839               1.166934e-01               0.0  0.673936   \n",
       "197265               3.511053e+00               0.0  0.842997   \n",
       "77077                1.000000e+09               0.0  0.560579   \n",
       "\n",
       "        scSigmaIetaIeta  scSigmaIetaIphi  scEMaxRatio  scSwissCross  \\\n",
       "entry                                                                 \n",
       "194132         0.026064        -0.000190     0.534104      0.447623   \n",
       "173325         0.033230         0.000202     0.352856      0.351689   \n",
       "149839         0.035708        -0.000392     0.450455      0.269770   \n",
       "197265         0.025524        -0.000024     0.229337     -0.371802   \n",
       "77077          0.022879         0.000213     0.474398      0.128139   \n",
       "\n",
       "        scE2x5_MaxRatio  scE2ndRatio  scPFPhoIso1  scPFPhoIso2  scPFPhoIso3  \\\n",
       "entry                                                                         \n",
       "194132         0.986228     0.132876    11.403557    11.403557    11.403557   \n",
       "173325         0.738545     0.174199     8.812951     8.812951     8.812951   \n",
       "149839         0.914227     0.197782     0.344081     1.411565     3.726917   \n",
       "197265         0.789343     0.210085     0.000000     1.066984     1.066984   \n",
       "77077          0.997886     0.314925     8.321395     8.321395     8.624738   \n",
       "\n",
       "        scPFPhoIso4  scPFPhoIso5  scPFChIso1  scPFChIso2  scPFChIso3  \\\n",
       "entry                                                                  \n",
       "194132    12.117167    12.397338    0.000000   12.553329   16.347647   \n",
       "173325     8.812951     8.993004   16.842054   20.360682   35.479122   \n",
       "149839     4.068542     5.101986    3.856318   11.780025   12.454387   \n",
       "197265     1.066984     1.066984   20.383801   28.523863   28.998936   \n",
       "77077      8.624738     9.239630    8.663137   14.669971   16.263273   \n",
       "\n",
       "        scPFChIso4  scPFChIso5 Class  Category  XGB_1_pred  \n",
       "entry                                                       \n",
       "194132   20.069721   25.244577   QCD         1    0.144266  \n",
       "173325   46.677807   57.642776   QCD         1    0.006083  \n",
       "149839   15.956965   23.167852   QCD         1    0.086716  \n",
       "197265   31.362289   34.842434   QCD         1    0.005627  \n",
       "77077    20.700422   23.209164   QCD         1    0.052017  "
      ]
     },
     "execution_count": 44,
     "metadata": {},
     "output_type": "execute_result"
    }
   ],
   "source": [
    "eff_df.tail()"
   ]
  },
  {
   "cell_type": "code",
   "execution_count": 49,
   "id": "80fd00eb",
   "metadata": {},
   "outputs": [
    {
     "name": "stdout",
     "output_type": "stream",
     "text": [
      "['XGB_1_pred']\n",
      "0.19999999999999996\n",
      "0.09999999999999998\n",
      "0.1\n",
      "BinaryClassification_XGBoost_endcap-v1/ Binary_eff_validation_0.2_ele_pt_bin\n",
      "BinaryClassification_XGBoost_endcap-v1/ Binary_eff_validation_0.1_ele_pt_bin\n",
      "0.1\n",
      "Some bins have zero signal: assigning zero eff\n",
      "Some bins have zero signal: assigning zero eff\n",
      "Some bins have zero signal: assigning zero eff\n",
      "Some bins have zero signal: assigning zero eff\n",
      "BinaryClassification_XGBoost_endcap-v1/ Binary_eff_validation_0.2_ele_eta_bin\n",
      "Some bins have zero signal: assigning zero eff\n",
      "Some bins have zero signal: assigning zero eff\n",
      "Some bins have zero signal: assigning zero eff\n",
      "Some bins have zero signal: assigning zero eff\n",
      "BinaryClassification_XGBoost_endcap-v1/ Binary_eff_validation_0.1_ele_eta_bin\n"
     ]
    },
    {
     "data": {
      "image/png": "[encoded data removed]",
      "text/plain": [
       "<Figure size 288x288 with 1 Axes>"
      ]
     },
     "metadata": {
      "needs_background": "light"
     },
     "output_type": "display_data"
    },
    {
     "data": {
      "image/png": "[encoded data removed]",
      "text/plain": [
       "<Figure size 288x288 with 1 Axes>"
      ]
     },
     "metadata": {
      "needs_background": "light"
     },
     "output_type": "display_data"
    },
    {
     "data": {
      "image/png": "[encoded data removed]",
      "text/plain": [
       "<Figure size 288x288 with 1 Axes>"
      ]
     },
     "metadata": {
      "needs_background": "light"
     },
     "output_type": "display_data"
    },
    {
     "data": {
      "image/png": "[encoded data removed]",
      "text/plain": [
       "<Figure size 288x288 with 1 Axes>"
      ]
     },
     "metadata": {
      "needs_background": "light"
     },
     "output_type": "display_data"
    }
   ],
   "source": [
    "if len(SigEffWPsi)>0:\n",
    "    PredMVAs=[]\n",
    "    for MVA in MVAs:\n",
    "        PredMVAs.append(MVA[\"MVAtype\"]+'_pred')\n",
    "        print(PredMVAs)\n",
    "    SigEffWPs=SigEffWPsi[:]\n",
    "    for i,SigEffWPi in enumerate(SigEffWPs):\n",
    "        SigEffWPs[i]=1-(int(SigEffWPi.replace('%', ''))/100)\n",
    "        print(SigEffWPs[i])\n",
    "    \n",
    "    \n",
    "    for MVA in MVAs:\n",
    "\n",
    "        eff_df[\"ele_pt_bin\"] = pd.cut(eff_df[ptwtvar], bins=ptbins, labels=list(range(len(ptbins)-1)))\n",
    "        eff_df[\"ele_eta_bin\"] = pd.cut(eff_df[etawtvar], bins=etabins, labels=list(range(len(etabins)-1)))\n",
    "\n",
    "\n",
    "        if len(Classes) > 2:\n",
    "            \n",
    "            mydftest=eff_df.query(cat+\"==1 | \"+cat+\"==0\")[[MVA[\"MVAtype\"]+\"_pred\"]].quantile(SigEffWPs)\n",
    "            \n",
    "            #figMVA, axesMVA = plt.subplots(1, n_classes, figsize=(5, 5))\n",
    "            #plot_mva(EB_train, MVA[\"MVAtype\"]+\"_pred\", 100, logscale=False, ax=axMVA, title=\"Combined Score\", ls='dashed', alpha=0.5, sample='Train',cat=\"Class\",Wt=\"Wt\",Classes=Classes,Colors=ClassColors)\n",
    "            \n",
    "        if len(Classes) < 3:\n",
    "            \n",
    "            mydftest=eff_df.query(cat+\"==0\")[[MVA[\"MVAtype\"]+\"_pred\"]].quantile(SigEffWPs)\n",
    "            #print(\"iat:  \" , mydftest.iat[1,0])\n",
    "\n",
    "        \n",
    "        #print(mydftest.head())\n",
    "\n",
    "       \n",
    "        #if XGB_prediction value is greter than 20% or 10% quantile then put at those locations of XGB_1_pred = 1 otherwise 0\n",
    "        eff_df.loc[eff_df[MVA[\"MVAtype\"]+\"_pred\"] > mydftest.iat[0,0], MVA[\"MVAtype\"]+\"_predpass\"] = 1\n",
    "        eff_df.loc[eff_df[MVA[\"MVAtype\"]+\"_pred\"] < mydftest.iat[0,0], MVA[\"MVAtype\"]+\"_predpass\"] = 0\n",
    "\n",
    "        eff_df.loc[eff_df[MVA[\"MVAtype\"]+\"_pred\"] > mydftest.iat[1,0], MVA[\"MVAtype\"]+\"_predpass1\"] = 1\n",
    "        eff_df.loc[eff_df[MVA[\"MVAtype\"]+\"_pred\"] < mydftest.iat[1,0], MVA[\"MVAtype\"]+\"_predpass1\"] = 0\n",
    "\n",
    "        variables=['ele_pt_bin','ele_eta_bin']\n",
    "        bins=[ptbins,etabins]\n",
    "        xaxislabels=['$p_T$ (GeV)','$\\eta$']\n",
    "        #Wps=OverlayWP\n",
    "\n",
    "        for variable,xaxislabel,binn in zip(variables,xaxislabels,bins):\n",
    "           \n",
    "            print(round(SigEffWPs[1],1))\n",
    "            #for Wp in Wps:\n",
    "             #   EffTrend(cat=cat,var=Wp,groupbyvar=variable,ptbins=binn, label=xaxislabel,title='CMSSW_ID_'+Wp,plotname=\"CMSSW_ID_\"+Wp+\"_\"+variable,df=EB_train,plot_dir=OutputDirName+\"/\"+MVA[\"MVAtype\"]+\"/Train_\",Classes=Classes,Colors=ClassColors)\n",
    "\n",
    "\n",
    "            EffTrend(cat=cat,var=MVA[\"MVAtype\"]+\"_predpass\",groupbyvar=variable,ptbins=binn,label=xaxislabel,title=f\"At {SigEffWPsi[0]} overall signal efficiency\",plotname=\"Binary_eff_validation_\"+str(round(SigEffWPs[0],1))+\"_\"+variable,df=eff_df,plot_dir=Conf.OutputDirName+\"/\",Classes=['Bs-> J/psi gamma','QCD'],Colors=ClassColors)\n",
    "            EffTrend(cat=cat,var=MVA[\"MVAtype\"]+\"_predpass1\",groupbyvar=variable,ptbins=binn,label=xaxislabel,title=f\"At {SigEffWPsi[1]} overall signal efficiency\",plotname=\"Binary_eff_validation_\"+str(round(SigEffWPs[1],1))+\"_\"+variable,df=eff_df,plot_dir=Conf.OutputDirName+\"/\",Classes=['Bs-> J/psi gamma','QCD'],Colors=ClassColors)"
   ]
  },
  {
   "cell_type": "code",
   "execution_count": 46,
   "id": "0a6bd545",
   "metadata": {},
   "outputs": [
    {
     "data": {
      "text/plain": [
       "'BinaryClassification_XGBoost_endcap-v1'"
      ]
     },
     "execution_count": 46,
     "metadata": {},
     "output_type": "execute_result"
    }
   ],
   "source": [
    "Conf.OutputDirName"
   ]
  },
  {
   "cell_type": "code",
   "execution_count": 47,
   "id": "4e275e1a",
   "metadata": {},
   "outputs": [
    {
     "name": "stdout",
     "output_type": "stream",
     "text": [
      "0\n",
      "1\n"
     ]
    },
    {
     "data": {
      "image/png": "[encoded data removed]",
      "text/plain": [
       "<Figure size 360x360 with 1 Axes>"
      ]
     },
     "metadata": {
      "needs_background": "light"
     },
     "output_type": "display_data"
    }
   ],
   "source": [
    "from sklearn.metrics import roc_curve, auc\n",
    "\n",
    "n_classes=len(Classes)\n",
    "figMVA, axesMVA = plt.subplots(1, 1, figsize=(5,5))   \n",
    "\n",
    "axMVA=axesMVA\n",
    "for k in range(n_classes):\n",
    "    print(k)\n",
    "    axMVA.hist(y_test_pred[:, 0][Y_test_cat[:, k]==1],bins=np.linspace(0, 1, 21),label=Classes[k]+'_test',\n",
    "                weights=plotwt_test[Y_test_cat[:, k]==1]/np.sum(plotwt_test[Y_test_cat[:, k]==1]),\n",
    "                histtype='step',linewidth=2,color=ClassColors[k])\n",
    "        \n",
    "    axMVA.hist(y_train_pred[:, 0][Y_train_cat[:, k]==1],bins=np.linspace(0, 1, 21),label=Classes[k]+'_train',\n",
    "               weights=plotwt_train[Y_train_cat[:, k]==1]/np.sum(plotwt_train[Y_train_cat[:, k]==1]),\n",
    "               histtype='stepfilled',alpha=0.3,linewidth=2,color=ClassColors[k])\n",
    "        \n",
    "    axMVA.set_xlabel('Score',fontsize=10)\n",
    "        \n",
    "    axMVA.set_ylabel('Fraction of events',fontsize=10)\n",
    "    axMVA.legend(loc=\"best\",fontsize=10)\n",
    "    axMVA.text(0, 1, \"CMS Preliminary\", horizontalalignment = 'left', verticalalignment = 'bottom', transform=axMVA.transAxes, fontsize = 12)#, fontweight = 'bold')\n",
    "        \n",
    "    axMVA.text(1, 1, \"13 TeV\", horizontalalignment = 'right', verticalalignment = 'bottom', transform = axMVA.transAxes, fontsize = 12)\n",
    "    #axMVA.set_yscale('log')"
   ]
  },
  {
   "cell_type": "code",
   "execution_count": 50,
   "id": "cc80c408",
   "metadata": {},
   "outputs": [],
   "source": [
    "Y_eff_df=eff_df['Category']"
   ]
  },
  {
   "cell_type": "code",
   "execution_count": 51,
   "id": "54607db4",
   "metadata": {},
   "outputs": [
    {
     "data": {
      "text/plain": [
       "entry\n",
       "34854     0\n",
       "46956     0\n",
       "21699     0\n",
       "34573     0\n",
       "26022     0\n",
       "         ..\n",
       "194132    1\n",
       "173325    1\n",
       "149839    1\n",
       "197265    1\n",
       "77077     1\n",
       "Name: Category, Length: 137440, dtype: int64"
      ]
     },
     "execution_count": 51,
     "metadata": {},
     "output_type": "execute_result"
    }
   ],
   "source": [
    "Y_eff_df"
   ]
  },
  {
   "cell_type": "code",
   "execution_count": 52,
   "id": "61d30308",
   "metadata": {},
   "outputs": [],
   "source": [
    "Y_eff_df_cat = to_categorical(Y_eff_df, num_classes=2)"
   ]
  },
  {
   "cell_type": "code",
   "execution_count": 53,
   "id": "4c83f2cc",
   "metadata": {},
   "outputs": [],
   "source": [
    "eff_df['xsecwt']=1"
   ]
  },
  {
   "cell_type": "code",
   "execution_count": 54,
   "id": "a96f8605",
   "metadata": {},
   "outputs": [],
   "source": [
    "plotwt_eff_ef = np.asarray(eff_df['xsecwt'])"
   ]
  },
  {
   "cell_type": "code",
   "execution_count": 55,
   "id": "31c19622",
   "metadata": {},
   "outputs": [
    {
     "data": {
      "text/plain": [
       "(137440,)"
      ]
     },
     "execution_count": 55,
     "metadata": {},
     "output_type": "execute_result"
    }
   ],
   "source": [
    "plotwt_eff_ef.shape"
   ]
  },
  {
   "cell_type": "code",
   "execution_count": 56,
   "id": "195492e2",
   "metadata": {},
   "outputs": [
    {
     "data": {
      "text/plain": [
       "(32580, 2)"
      ]
     },
     "execution_count": 56,
     "metadata": {},
     "output_type": "execute_result"
    }
   ],
   "source": [
    "Y_test_cat.shape"
   ]
  },
  {
   "cell_type": "code",
   "execution_count": 57,
   "id": "6543f063",
   "metadata": {},
   "outputs": [
    {
     "name": "stdout",
     "output_type": "stream",
     "text": [
      "0\n",
      "1\n"
     ]
    },
    {
     "data": {
      "image/png": "[encoded data removed]",
      "text/plain": [
       "<Figure size 360x360 with 1 Axes>"
      ]
     },
     "metadata": {
      "needs_background": "light"
     },
     "output_type": "display_data"
    }
   ],
   "source": [
    "#plotwt_eff_df=np.asarray(eff_df.loc[TrainIndices,'xsecwt'])\n",
    "\n",
    "from sklearn.metrics import roc_curve, auc\n",
    "eff_classes = [\"Bs->JpsiGamma\",\"QCD\"]\n",
    "eff_classes_color = [\"b\",\"r\"]\n",
    "\n",
    "n_classes=len(Classes)\n",
    "figMVA, axesMVA = plt.subplots(1, 1, figsize=(5,5))   \n",
    "\n",
    "axMVA=axesMVA\n",
    "for k in range(n_classes):\n",
    "    print(k)\n",
    "    axMVA.hist(y_eff_df_pred[:, 0][Y_eff_df_cat[:, k]==1],bins=np.linspace(0, 1, 21),label=eff_classes[k],\n",
    "                weights=plotwt_eff_ef[Y_eff_df_cat[:, k]==1]/np.sum(plotwt_eff_ef[Y_eff_df_cat[:, k]==1]),\n",
    "                histtype='step',linewidth=2,color=eff_classes_color[k])\n",
    "    \n",
    "    axMVA.hist(y_test_pred[:, 0][Y_test_cat[:, k]==1],bins=np.linspace(0, 1, 21),label=Classes[k],\n",
    "               weights=plotwt_test[Y_test_cat[:, k]==1]/np.sum(plotwt_test[Y_test_cat[:, k]==1]),\n",
    "               histtype='step',linewidth=2,color=ClassColors[k])\n",
    "        \n",
    "\n",
    "        \n",
    "    axMVA.set_xlabel('Score',fontsize=10)\n",
    "        \n",
    "    axMVA.set_ylabel('Fraction of events',fontsize=10)\n",
    "    axMVA.legend(loc=\"best\",fontsize=10)\n",
    "    axMVA.text(0, 1, \"CMS Preliminary\", horizontalalignment = 'left', verticalalignment = 'bottom', transform=axMVA.transAxes, fontsize = 12)#, fontweight = 'bold')\n",
    "        \n",
    "    axMVA.text(1, 1, \"13 TeV\", horizontalalignment = 'right', verticalalignment = 'bottom', transform = axMVA.transAxes, fontsize = 12)\n",
    "    figMVA.savefig(\"MVA_score_Bsjpsi_QCD_validation.png\")\n",
    "    figMVA.savefig(\"MVA_score_Bsjpsi_QCD_validation.pdf\")\n",
    "\n",
    "    #axMVA.set_yscale('log')"
   ]
  },
  {
   "cell_type": "code",
   "execution_count": 58,
   "id": "3fd76925",
   "metadata": {},
   "outputs": [
    {
     "data": {
      "text/plain": [
       "(97737,)"
      ]
     },
     "execution_count": 58,
     "metadata": {},
     "output_type": "execute_result"
    }
   ],
   "source": [
    "plotwt_train.shape"
   ]
  },
  {
   "cell_type": "code",
   "execution_count": null,
   "id": "b34813c6",
   "metadata": {},
   "outputs": [],
   "source": []
  }
 ],
 "metadata": {
  "kernelspec": {
   "display_name": "Python 3",
   "language": "python",
   "name": "python3"
  },
  "language_info": {
   "codemirror_mode": {
    "name": "ipython",
    "version": 3
   },
   "file_extension": ".py",
   "mimetype": "text/x-python",
   "name": "python",
   "nbconvert_exporter": "python",
   "pygments_lexer": "ipython3",
   "version": "3.9.12"
  }
 },
 "nbformat": 4,
 "nbformat_minor": 5
}
